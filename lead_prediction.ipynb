{
 "cells": [
  {
   "cell_type": "markdown",
   "id": "5db2b43c",
   "metadata": {
    "id": "5db2b43c"
   },
   "source": [
    "## Problem Statement"
   ]
  },
  {
   "cell_type": "markdown",
   "id": "b9a21754",
   "metadata": {
    "id": "b9a21754"
   },
   "source": [
    "X Education sells online courses to industry professionals. The company markets its courses on several websites and search engines like Google. Once these people land on the website, they might browse the courses or fill up a form for the course or watch some videos. When these people fill up a form providing their email address or phone number, they are classified to be a lead. Moreover, the company also gets leads through past referrals. Once these leads are acquired, employees from the sales team start making calls, writing emails, etc. Through this process, some of the leads get converted while most do not. The typical lead conversion rate at X education is around 30%."
   ]
  },
  {
   "cell_type": "markdown",
   "id": "b1a358c5",
   "metadata": {
    "id": "b1a358c5"
   },
   "source": [
    "## Business Goal"
   ]
  },
  {
   "cell_type": "markdown",
   "id": "482b4628",
   "metadata": {
    "id": "482b4628"
   },
   "source": [
    "X Education needs help in selecting the most promising leads, i.e. the leads that are most likely to convert into paying customers. The company needs a model wherein you a lead score is assigned to each of the leads such that the customers with higher lead score have a higher conversion chance and the customers with lower lead score have a lower conversion chance. The CEO, in particular, has given a ballpark of the target lead conversion rate to be around 80%."
   ]
  },
  {
   "cell_type": "code",
   "execution_count": 55,
   "id": "0cd2929f",
   "metadata": {
    "id": "0cd2929f"
   },
   "outputs": [],
   "source": [
    "import pandas as pd\n",
    "import numpy as np\n",
    "import seaborn as sns\n",
    "import matplotlib.pyplot as plt\n",
    "%matplotlib inline"
   ]
  },
  {
   "cell_type": "code",
   "execution_count": 56,
   "id": "2f8f11c8",
   "metadata": {
    "id": "2f8f11c8"
   },
   "outputs": [],
   "source": [
    "import warnings\n",
    "warnings.filterwarnings('ignore')"
   ]
  },
  {
   "cell_type": "code",
   "execution_count": 57,
   "id": "256a6b92",
   "metadata": {
    "id": "256a6b92"
   },
   "outputs": [],
   "source": [
    "leads = pd.read_csv(r'C:\\Users\\turan\\Desktop\\Kaggle\\Leads.csv')"
   ]
  },
  {
   "cell_type": "code",
   "execution_count": 58,
   "id": "b5e8558c",
   "metadata": {
    "id": "b5e8558c",
    "outputId": "9e13a9e2-b69f-4a25-c4ca-6062e50f4e0b"
   },
   "outputs": [
    {
     "data": {
      "text/html": [
       "<div>\n",
       "<style scoped>\n",
       "    .dataframe tbody tr th:only-of-type {\n",
       "        vertical-align: middle;\n",
       "    }\n",
       "\n",
       "    .dataframe tbody tr th {\n",
       "        vertical-align: top;\n",
       "    }\n",
       "\n",
       "    .dataframe thead th {\n",
       "        text-align: right;\n",
       "    }\n",
       "</style>\n",
       "<table border=\"1\" class=\"dataframe\">\n",
       "  <thead>\n",
       "    <tr style=\"text-align: right;\">\n",
       "      <th></th>\n",
       "      <th>Prospect ID</th>\n",
       "      <th>Lead Number</th>\n",
       "      <th>Lead Origin</th>\n",
       "      <th>Lead Source</th>\n",
       "      <th>Do Not Email</th>\n",
       "      <th>Do Not Call</th>\n",
       "      <th>Converted</th>\n",
       "      <th>TotalVisits</th>\n",
       "      <th>Total Time Spent on Website</th>\n",
       "      <th>Page Views Per Visit</th>\n",
       "      <th>...</th>\n",
       "      <th>Get updates on DM Content</th>\n",
       "      <th>Lead Profile</th>\n",
       "      <th>City</th>\n",
       "      <th>Asymmetrique Activity Index</th>\n",
       "      <th>Asymmetrique Profile Index</th>\n",
       "      <th>Asymmetrique Activity Score</th>\n",
       "      <th>Asymmetrique Profile Score</th>\n",
       "      <th>I agree to pay the amount through cheque</th>\n",
       "      <th>A free copy of Mastering The Interview</th>\n",
       "      <th>Last Notable Activity</th>\n",
       "    </tr>\n",
       "  </thead>\n",
       "  <tbody>\n",
       "    <tr>\n",
       "      <th>0</th>\n",
       "      <td>7927b2df-8bba-4d29-b9a2-b6e0beafe620</td>\n",
       "      <td>660737</td>\n",
       "      <td>API</td>\n",
       "      <td>Olark Chat</td>\n",
       "      <td>No</td>\n",
       "      <td>No</td>\n",
       "      <td>0</td>\n",
       "      <td>0.0</td>\n",
       "      <td>0</td>\n",
       "      <td>0.0</td>\n",
       "      <td>...</td>\n",
       "      <td>No</td>\n",
       "      <td>Select</td>\n",
       "      <td>Select</td>\n",
       "      <td>02.Medium</td>\n",
       "      <td>02.Medium</td>\n",
       "      <td>15.0</td>\n",
       "      <td>15.0</td>\n",
       "      <td>No</td>\n",
       "      <td>No</td>\n",
       "      <td>Modified</td>\n",
       "    </tr>\n",
       "    <tr>\n",
       "      <th>1</th>\n",
       "      <td>2a272436-5132-4136-86fa-dcc88c88f482</td>\n",
       "      <td>660728</td>\n",
       "      <td>API</td>\n",
       "      <td>Organic Search</td>\n",
       "      <td>No</td>\n",
       "      <td>No</td>\n",
       "      <td>0</td>\n",
       "      <td>5.0</td>\n",
       "      <td>674</td>\n",
       "      <td>2.5</td>\n",
       "      <td>...</td>\n",
       "      <td>No</td>\n",
       "      <td>Select</td>\n",
       "      <td>Select</td>\n",
       "      <td>02.Medium</td>\n",
       "      <td>02.Medium</td>\n",
       "      <td>15.0</td>\n",
       "      <td>15.0</td>\n",
       "      <td>No</td>\n",
       "      <td>No</td>\n",
       "      <td>Email Opened</td>\n",
       "    </tr>\n",
       "    <tr>\n",
       "      <th>2</th>\n",
       "      <td>8cc8c611-a219-4f35-ad23-fdfd2656bd8a</td>\n",
       "      <td>660727</td>\n",
       "      <td>Landing Page Submission</td>\n",
       "      <td>Direct Traffic</td>\n",
       "      <td>No</td>\n",
       "      <td>No</td>\n",
       "      <td>1</td>\n",
       "      <td>2.0</td>\n",
       "      <td>1532</td>\n",
       "      <td>2.0</td>\n",
       "      <td>...</td>\n",
       "      <td>No</td>\n",
       "      <td>Potential Lead</td>\n",
       "      <td>Mumbai</td>\n",
       "      <td>02.Medium</td>\n",
       "      <td>01.High</td>\n",
       "      <td>14.0</td>\n",
       "      <td>20.0</td>\n",
       "      <td>No</td>\n",
       "      <td>Yes</td>\n",
       "      <td>Email Opened</td>\n",
       "    </tr>\n",
       "    <tr>\n",
       "      <th>3</th>\n",
       "      <td>0cc2df48-7cf4-4e39-9de9-19797f9b38cc</td>\n",
       "      <td>660719</td>\n",
       "      <td>Landing Page Submission</td>\n",
       "      <td>Direct Traffic</td>\n",
       "      <td>No</td>\n",
       "      <td>No</td>\n",
       "      <td>0</td>\n",
       "      <td>1.0</td>\n",
       "      <td>305</td>\n",
       "      <td>1.0</td>\n",
       "      <td>...</td>\n",
       "      <td>No</td>\n",
       "      <td>Select</td>\n",
       "      <td>Mumbai</td>\n",
       "      <td>02.Medium</td>\n",
       "      <td>01.High</td>\n",
       "      <td>13.0</td>\n",
       "      <td>17.0</td>\n",
       "      <td>No</td>\n",
       "      <td>No</td>\n",
       "      <td>Modified</td>\n",
       "    </tr>\n",
       "    <tr>\n",
       "      <th>4</th>\n",
       "      <td>3256f628-e534-4826-9d63-4a8b88782852</td>\n",
       "      <td>660681</td>\n",
       "      <td>Landing Page Submission</td>\n",
       "      <td>Google</td>\n",
       "      <td>No</td>\n",
       "      <td>No</td>\n",
       "      <td>1</td>\n",
       "      <td>2.0</td>\n",
       "      <td>1428</td>\n",
       "      <td>1.0</td>\n",
       "      <td>...</td>\n",
       "      <td>No</td>\n",
       "      <td>Select</td>\n",
       "      <td>Mumbai</td>\n",
       "      <td>02.Medium</td>\n",
       "      <td>01.High</td>\n",
       "      <td>15.0</td>\n",
       "      <td>18.0</td>\n",
       "      <td>No</td>\n",
       "      <td>No</td>\n",
       "      <td>Modified</td>\n",
       "    </tr>\n",
       "  </tbody>\n",
       "</table>\n",
       "<p>5 rows × 37 columns</p>\n",
       "</div>"
      ],
      "text/plain": [
       "                            Prospect ID  Lead Number              Lead Origin  \\\n",
       "0  7927b2df-8bba-4d29-b9a2-b6e0beafe620       660737                      API   \n",
       "1  2a272436-5132-4136-86fa-dcc88c88f482       660728                      API   \n",
       "2  8cc8c611-a219-4f35-ad23-fdfd2656bd8a       660727  Landing Page Submission   \n",
       "3  0cc2df48-7cf4-4e39-9de9-19797f9b38cc       660719  Landing Page Submission   \n",
       "4  3256f628-e534-4826-9d63-4a8b88782852       660681  Landing Page Submission   \n",
       "\n",
       "      Lead Source Do Not Email Do Not Call  Converted  TotalVisits  \\\n",
       "0      Olark Chat           No          No          0          0.0   \n",
       "1  Organic Search           No          No          0          5.0   \n",
       "2  Direct Traffic           No          No          1          2.0   \n",
       "3  Direct Traffic           No          No          0          1.0   \n",
       "4          Google           No          No          1          2.0   \n",
       "\n",
       "   Total Time Spent on Website  Page Views Per Visit  ...  \\\n",
       "0                            0                   0.0  ...   \n",
       "1                          674                   2.5  ...   \n",
       "2                         1532                   2.0  ...   \n",
       "3                          305                   1.0  ...   \n",
       "4                         1428                   1.0  ...   \n",
       "\n",
       "  Get updates on DM Content    Lead Profile    City  \\\n",
       "0                        No          Select  Select   \n",
       "1                        No          Select  Select   \n",
       "2                        No  Potential Lead  Mumbai   \n",
       "3                        No          Select  Mumbai   \n",
       "4                        No          Select  Mumbai   \n",
       "\n",
       "  Asymmetrique Activity Index Asymmetrique Profile Index  \\\n",
       "0                   02.Medium                  02.Medium   \n",
       "1                   02.Medium                  02.Medium   \n",
       "2                   02.Medium                    01.High   \n",
       "3                   02.Medium                    01.High   \n",
       "4                   02.Medium                    01.High   \n",
       "\n",
       "  Asymmetrique Activity Score Asymmetrique Profile Score  \\\n",
       "0                        15.0                       15.0   \n",
       "1                        15.0                       15.0   \n",
       "2                        14.0                       20.0   \n",
       "3                        13.0                       17.0   \n",
       "4                        15.0                       18.0   \n",
       "\n",
       "  I agree to pay the amount through cheque  \\\n",
       "0                                       No   \n",
       "1                                       No   \n",
       "2                                       No   \n",
       "3                                       No   \n",
       "4                                       No   \n",
       "\n",
       "  A free copy of Mastering The Interview Last Notable Activity  \n",
       "0                                     No              Modified  \n",
       "1                                     No          Email Opened  \n",
       "2                                    Yes          Email Opened  \n",
       "3                                     No              Modified  \n",
       "4                                     No              Modified  \n",
       "\n",
       "[5 rows x 37 columns]"
      ]
     },
     "execution_count": 58,
     "metadata": {},
     "output_type": "execute_result"
    }
   ],
   "source": [
    "leads.head()"
   ]
  },
  {
   "cell_type": "code",
   "execution_count": 59,
   "id": "eb1555e0",
   "metadata": {
    "id": "eb1555e0",
    "outputId": "65ca6347-82cb-489c-fa38-30ef2aa207e8"
   },
   "outputs": [
    {
     "data": {
      "text/html": [
       "<div>\n",
       "<style scoped>\n",
       "    .dataframe tbody tr th:only-of-type {\n",
       "        vertical-align: middle;\n",
       "    }\n",
       "\n",
       "    .dataframe tbody tr th {\n",
       "        vertical-align: top;\n",
       "    }\n",
       "\n",
       "    .dataframe thead th {\n",
       "        text-align: right;\n",
       "    }\n",
       "</style>\n",
       "<table border=\"1\" class=\"dataframe\">\n",
       "  <thead>\n",
       "    <tr style=\"text-align: right;\">\n",
       "      <th></th>\n",
       "      <th>0</th>\n",
       "      <th>1</th>\n",
       "      <th>2</th>\n",
       "      <th>3</th>\n",
       "      <th>4</th>\n",
       "    </tr>\n",
       "  </thead>\n",
       "  <tbody>\n",
       "    <tr>\n",
       "      <th>Prospect ID</th>\n",
       "      <td>7927b2df-8bba-4d29-b9a2-b6e0beafe620</td>\n",
       "      <td>2a272436-5132-4136-86fa-dcc88c88f482</td>\n",
       "      <td>8cc8c611-a219-4f35-ad23-fdfd2656bd8a</td>\n",
       "      <td>0cc2df48-7cf4-4e39-9de9-19797f9b38cc</td>\n",
       "      <td>3256f628-e534-4826-9d63-4a8b88782852</td>\n",
       "    </tr>\n",
       "    <tr>\n",
       "      <th>Lead Number</th>\n",
       "      <td>660737</td>\n",
       "      <td>660728</td>\n",
       "      <td>660727</td>\n",
       "      <td>660719</td>\n",
       "      <td>660681</td>\n",
       "    </tr>\n",
       "    <tr>\n",
       "      <th>Lead Origin</th>\n",
       "      <td>API</td>\n",
       "      <td>API</td>\n",
       "      <td>Landing Page Submission</td>\n",
       "      <td>Landing Page Submission</td>\n",
       "      <td>Landing Page Submission</td>\n",
       "    </tr>\n",
       "    <tr>\n",
       "      <th>Lead Source</th>\n",
       "      <td>Olark Chat</td>\n",
       "      <td>Organic Search</td>\n",
       "      <td>Direct Traffic</td>\n",
       "      <td>Direct Traffic</td>\n",
       "      <td>Google</td>\n",
       "    </tr>\n",
       "    <tr>\n",
       "      <th>Do Not Email</th>\n",
       "      <td>No</td>\n",
       "      <td>No</td>\n",
       "      <td>No</td>\n",
       "      <td>No</td>\n",
       "      <td>No</td>\n",
       "    </tr>\n",
       "    <tr>\n",
       "      <th>Do Not Call</th>\n",
       "      <td>No</td>\n",
       "      <td>No</td>\n",
       "      <td>No</td>\n",
       "      <td>No</td>\n",
       "      <td>No</td>\n",
       "    </tr>\n",
       "    <tr>\n",
       "      <th>Converted</th>\n",
       "      <td>0</td>\n",
       "      <td>0</td>\n",
       "      <td>1</td>\n",
       "      <td>0</td>\n",
       "      <td>1</td>\n",
       "    </tr>\n",
       "    <tr>\n",
       "      <th>TotalVisits</th>\n",
       "      <td>0.0</td>\n",
       "      <td>5.0</td>\n",
       "      <td>2.0</td>\n",
       "      <td>1.0</td>\n",
       "      <td>2.0</td>\n",
       "    </tr>\n",
       "    <tr>\n",
       "      <th>Total Time Spent on Website</th>\n",
       "      <td>0</td>\n",
       "      <td>674</td>\n",
       "      <td>1532</td>\n",
       "      <td>305</td>\n",
       "      <td>1428</td>\n",
       "    </tr>\n",
       "    <tr>\n",
       "      <th>Page Views Per Visit</th>\n",
       "      <td>0.0</td>\n",
       "      <td>2.5</td>\n",
       "      <td>2.0</td>\n",
       "      <td>1.0</td>\n",
       "      <td>1.0</td>\n",
       "    </tr>\n",
       "    <tr>\n",
       "      <th>Last Activity</th>\n",
       "      <td>Page Visited on Website</td>\n",
       "      <td>Email Opened</td>\n",
       "      <td>Email Opened</td>\n",
       "      <td>Unreachable</td>\n",
       "      <td>Converted to Lead</td>\n",
       "    </tr>\n",
       "    <tr>\n",
       "      <th>Country</th>\n",
       "      <td>NaN</td>\n",
       "      <td>India</td>\n",
       "      <td>India</td>\n",
       "      <td>India</td>\n",
       "      <td>India</td>\n",
       "    </tr>\n",
       "    <tr>\n",
       "      <th>Specialization</th>\n",
       "      <td>Select</td>\n",
       "      <td>Select</td>\n",
       "      <td>Business Administration</td>\n",
       "      <td>Media and Advertising</td>\n",
       "      <td>Select</td>\n",
       "    </tr>\n",
       "    <tr>\n",
       "      <th>How did you hear about X Education</th>\n",
       "      <td>Select</td>\n",
       "      <td>Select</td>\n",
       "      <td>Select</td>\n",
       "      <td>Word Of Mouth</td>\n",
       "      <td>Other</td>\n",
       "    </tr>\n",
       "    <tr>\n",
       "      <th>What is your current occupation</th>\n",
       "      <td>Unemployed</td>\n",
       "      <td>Unemployed</td>\n",
       "      <td>Student</td>\n",
       "      <td>Unemployed</td>\n",
       "      <td>Unemployed</td>\n",
       "    </tr>\n",
       "    <tr>\n",
       "      <th>What matters most to you in choosing a course</th>\n",
       "      <td>Better Career Prospects</td>\n",
       "      <td>Better Career Prospects</td>\n",
       "      <td>Better Career Prospects</td>\n",
       "      <td>Better Career Prospects</td>\n",
       "      <td>Better Career Prospects</td>\n",
       "    </tr>\n",
       "    <tr>\n",
       "      <th>Search</th>\n",
       "      <td>No</td>\n",
       "      <td>No</td>\n",
       "      <td>No</td>\n",
       "      <td>No</td>\n",
       "      <td>No</td>\n",
       "    </tr>\n",
       "    <tr>\n",
       "      <th>Magazine</th>\n",
       "      <td>No</td>\n",
       "      <td>No</td>\n",
       "      <td>No</td>\n",
       "      <td>No</td>\n",
       "      <td>No</td>\n",
       "    </tr>\n",
       "    <tr>\n",
       "      <th>Newspaper Article</th>\n",
       "      <td>No</td>\n",
       "      <td>No</td>\n",
       "      <td>No</td>\n",
       "      <td>No</td>\n",
       "      <td>No</td>\n",
       "    </tr>\n",
       "    <tr>\n",
       "      <th>X Education Forums</th>\n",
       "      <td>No</td>\n",
       "      <td>No</td>\n",
       "      <td>No</td>\n",
       "      <td>No</td>\n",
       "      <td>No</td>\n",
       "    </tr>\n",
       "    <tr>\n",
       "      <th>Newspaper</th>\n",
       "      <td>No</td>\n",
       "      <td>No</td>\n",
       "      <td>No</td>\n",
       "      <td>No</td>\n",
       "      <td>No</td>\n",
       "    </tr>\n",
       "    <tr>\n",
       "      <th>Digital Advertisement</th>\n",
       "      <td>No</td>\n",
       "      <td>No</td>\n",
       "      <td>No</td>\n",
       "      <td>No</td>\n",
       "      <td>No</td>\n",
       "    </tr>\n",
       "    <tr>\n",
       "      <th>Through Recommendations</th>\n",
       "      <td>No</td>\n",
       "      <td>No</td>\n",
       "      <td>No</td>\n",
       "      <td>No</td>\n",
       "      <td>No</td>\n",
       "    </tr>\n",
       "    <tr>\n",
       "      <th>Receive More Updates About Our Courses</th>\n",
       "      <td>No</td>\n",
       "      <td>No</td>\n",
       "      <td>No</td>\n",
       "      <td>No</td>\n",
       "      <td>No</td>\n",
       "    </tr>\n",
       "    <tr>\n",
       "      <th>Tags</th>\n",
       "      <td>Interested in other courses</td>\n",
       "      <td>Ringing</td>\n",
       "      <td>Will revert after reading the email</td>\n",
       "      <td>Ringing</td>\n",
       "      <td>Will revert after reading the email</td>\n",
       "    </tr>\n",
       "    <tr>\n",
       "      <th>Lead Quality</th>\n",
       "      <td>Low in Relevance</td>\n",
       "      <td>NaN</td>\n",
       "      <td>Might be</td>\n",
       "      <td>Not Sure</td>\n",
       "      <td>Might be</td>\n",
       "    </tr>\n",
       "    <tr>\n",
       "      <th>Update me on Supply Chain Content</th>\n",
       "      <td>No</td>\n",
       "      <td>No</td>\n",
       "      <td>No</td>\n",
       "      <td>No</td>\n",
       "      <td>No</td>\n",
       "    </tr>\n",
       "    <tr>\n",
       "      <th>Get updates on DM Content</th>\n",
       "      <td>No</td>\n",
       "      <td>No</td>\n",
       "      <td>No</td>\n",
       "      <td>No</td>\n",
       "      <td>No</td>\n",
       "    </tr>\n",
       "    <tr>\n",
       "      <th>Lead Profile</th>\n",
       "      <td>Select</td>\n",
       "      <td>Select</td>\n",
       "      <td>Potential Lead</td>\n",
       "      <td>Select</td>\n",
       "      <td>Select</td>\n",
       "    </tr>\n",
       "    <tr>\n",
       "      <th>City</th>\n",
       "      <td>Select</td>\n",
       "      <td>Select</td>\n",
       "      <td>Mumbai</td>\n",
       "      <td>Mumbai</td>\n",
       "      <td>Mumbai</td>\n",
       "    </tr>\n",
       "    <tr>\n",
       "      <th>Asymmetrique Activity Index</th>\n",
       "      <td>02.Medium</td>\n",
       "      <td>02.Medium</td>\n",
       "      <td>02.Medium</td>\n",
       "      <td>02.Medium</td>\n",
       "      <td>02.Medium</td>\n",
       "    </tr>\n",
       "    <tr>\n",
       "      <th>Asymmetrique Profile Index</th>\n",
       "      <td>02.Medium</td>\n",
       "      <td>02.Medium</td>\n",
       "      <td>01.High</td>\n",
       "      <td>01.High</td>\n",
       "      <td>01.High</td>\n",
       "    </tr>\n",
       "    <tr>\n",
       "      <th>Asymmetrique Activity Score</th>\n",
       "      <td>15.0</td>\n",
       "      <td>15.0</td>\n",
       "      <td>14.0</td>\n",
       "      <td>13.0</td>\n",
       "      <td>15.0</td>\n",
       "    </tr>\n",
       "    <tr>\n",
       "      <th>Asymmetrique Profile Score</th>\n",
       "      <td>15.0</td>\n",
       "      <td>15.0</td>\n",
       "      <td>20.0</td>\n",
       "      <td>17.0</td>\n",
       "      <td>18.0</td>\n",
       "    </tr>\n",
       "    <tr>\n",
       "      <th>I agree to pay the amount through cheque</th>\n",
       "      <td>No</td>\n",
       "      <td>No</td>\n",
       "      <td>No</td>\n",
       "      <td>No</td>\n",
       "      <td>No</td>\n",
       "    </tr>\n",
       "    <tr>\n",
       "      <th>A free copy of Mastering The Interview</th>\n",
       "      <td>No</td>\n",
       "      <td>No</td>\n",
       "      <td>Yes</td>\n",
       "      <td>No</td>\n",
       "      <td>No</td>\n",
       "    </tr>\n",
       "    <tr>\n",
       "      <th>Last Notable Activity</th>\n",
       "      <td>Modified</td>\n",
       "      <td>Email Opened</td>\n",
       "      <td>Email Opened</td>\n",
       "      <td>Modified</td>\n",
       "      <td>Modified</td>\n",
       "    </tr>\n",
       "  </tbody>\n",
       "</table>\n",
       "</div>"
      ],
      "text/plain": [
       "                                                                                  0  \\\n",
       "Prospect ID                                    7927b2df-8bba-4d29-b9a2-b6e0beafe620   \n",
       "Lead Number                                                                  660737   \n",
       "Lead Origin                                                                     API   \n",
       "Lead Source                                                              Olark Chat   \n",
       "Do Not Email                                                                     No   \n",
       "Do Not Call                                                                      No   \n",
       "Converted                                                                         0   \n",
       "TotalVisits                                                                     0.0   \n",
       "Total Time Spent on Website                                                       0   \n",
       "Page Views Per Visit                                                            0.0   \n",
       "Last Activity                                               Page Visited on Website   \n",
       "Country                                                                         NaN   \n",
       "Specialization                                                               Select   \n",
       "How did you hear about X Education                                           Select   \n",
       "What is your current occupation                                          Unemployed   \n",
       "What matters most to you in choosing a course               Better Career Prospects   \n",
       "Search                                                                           No   \n",
       "Magazine                                                                         No   \n",
       "Newspaper Article                                                                No   \n",
       "X Education Forums                                                               No   \n",
       "Newspaper                                                                        No   \n",
       "Digital Advertisement                                                            No   \n",
       "Through Recommendations                                                          No   \n",
       "Receive More Updates About Our Courses                                           No   \n",
       "Tags                                                    Interested in other courses   \n",
       "Lead Quality                                                       Low in Relevance   \n",
       "Update me on Supply Chain Content                                                No   \n",
       "Get updates on DM Content                                                        No   \n",
       "Lead Profile                                                                 Select   \n",
       "City                                                                         Select   \n",
       "Asymmetrique Activity Index                                               02.Medium   \n",
       "Asymmetrique Profile Index                                                02.Medium   \n",
       "Asymmetrique Activity Score                                                    15.0   \n",
       "Asymmetrique Profile Score                                                     15.0   \n",
       "I agree to pay the amount through cheque                                         No   \n",
       "A free copy of Mastering The Interview                                           No   \n",
       "Last Notable Activity                                                      Modified   \n",
       "\n",
       "                                                                                  1  \\\n",
       "Prospect ID                                    2a272436-5132-4136-86fa-dcc88c88f482   \n",
       "Lead Number                                                                  660728   \n",
       "Lead Origin                                                                     API   \n",
       "Lead Source                                                          Organic Search   \n",
       "Do Not Email                                                                     No   \n",
       "Do Not Call                                                                      No   \n",
       "Converted                                                                         0   \n",
       "TotalVisits                                                                     5.0   \n",
       "Total Time Spent on Website                                                     674   \n",
       "Page Views Per Visit                                                            2.5   \n",
       "Last Activity                                                          Email Opened   \n",
       "Country                                                                       India   \n",
       "Specialization                                                               Select   \n",
       "How did you hear about X Education                                           Select   \n",
       "What is your current occupation                                          Unemployed   \n",
       "What matters most to you in choosing a course               Better Career Prospects   \n",
       "Search                                                                           No   \n",
       "Magazine                                                                         No   \n",
       "Newspaper Article                                                                No   \n",
       "X Education Forums                                                               No   \n",
       "Newspaper                                                                        No   \n",
       "Digital Advertisement                                                            No   \n",
       "Through Recommendations                                                          No   \n",
       "Receive More Updates About Our Courses                                           No   \n",
       "Tags                                                                        Ringing   \n",
       "Lead Quality                                                                    NaN   \n",
       "Update me on Supply Chain Content                                                No   \n",
       "Get updates on DM Content                                                        No   \n",
       "Lead Profile                                                                 Select   \n",
       "City                                                                         Select   \n",
       "Asymmetrique Activity Index                                               02.Medium   \n",
       "Asymmetrique Profile Index                                                02.Medium   \n",
       "Asymmetrique Activity Score                                                    15.0   \n",
       "Asymmetrique Profile Score                                                     15.0   \n",
       "I agree to pay the amount through cheque                                         No   \n",
       "A free copy of Mastering The Interview                                           No   \n",
       "Last Notable Activity                                                  Email Opened   \n",
       "\n",
       "                                                                                  2  \\\n",
       "Prospect ID                                    8cc8c611-a219-4f35-ad23-fdfd2656bd8a   \n",
       "Lead Number                                                                  660727   \n",
       "Lead Origin                                                 Landing Page Submission   \n",
       "Lead Source                                                          Direct Traffic   \n",
       "Do Not Email                                                                     No   \n",
       "Do Not Call                                                                      No   \n",
       "Converted                                                                         1   \n",
       "TotalVisits                                                                     2.0   \n",
       "Total Time Spent on Website                                                    1532   \n",
       "Page Views Per Visit                                                            2.0   \n",
       "Last Activity                                                          Email Opened   \n",
       "Country                                                                       India   \n",
       "Specialization                                              Business Administration   \n",
       "How did you hear about X Education                                           Select   \n",
       "What is your current occupation                                             Student   \n",
       "What matters most to you in choosing a course               Better Career Prospects   \n",
       "Search                                                                           No   \n",
       "Magazine                                                                         No   \n",
       "Newspaper Article                                                                No   \n",
       "X Education Forums                                                               No   \n",
       "Newspaper                                                                        No   \n",
       "Digital Advertisement                                                            No   \n",
       "Through Recommendations                                                          No   \n",
       "Receive More Updates About Our Courses                                           No   \n",
       "Tags                                            Will revert after reading the email   \n",
       "Lead Quality                                                               Might be   \n",
       "Update me on Supply Chain Content                                                No   \n",
       "Get updates on DM Content                                                        No   \n",
       "Lead Profile                                                         Potential Lead   \n",
       "City                                                                         Mumbai   \n",
       "Asymmetrique Activity Index                                               02.Medium   \n",
       "Asymmetrique Profile Index                                                  01.High   \n",
       "Asymmetrique Activity Score                                                    14.0   \n",
       "Asymmetrique Profile Score                                                     20.0   \n",
       "I agree to pay the amount through cheque                                         No   \n",
       "A free copy of Mastering The Interview                                          Yes   \n",
       "Last Notable Activity                                                  Email Opened   \n",
       "\n",
       "                                                                                  3  \\\n",
       "Prospect ID                                    0cc2df48-7cf4-4e39-9de9-19797f9b38cc   \n",
       "Lead Number                                                                  660719   \n",
       "Lead Origin                                                 Landing Page Submission   \n",
       "Lead Source                                                          Direct Traffic   \n",
       "Do Not Email                                                                     No   \n",
       "Do Not Call                                                                      No   \n",
       "Converted                                                                         0   \n",
       "TotalVisits                                                                     1.0   \n",
       "Total Time Spent on Website                                                     305   \n",
       "Page Views Per Visit                                                            1.0   \n",
       "Last Activity                                                           Unreachable   \n",
       "Country                                                                       India   \n",
       "Specialization                                                Media and Advertising   \n",
       "How did you hear about X Education                                    Word Of Mouth   \n",
       "What is your current occupation                                          Unemployed   \n",
       "What matters most to you in choosing a course               Better Career Prospects   \n",
       "Search                                                                           No   \n",
       "Magazine                                                                         No   \n",
       "Newspaper Article                                                                No   \n",
       "X Education Forums                                                               No   \n",
       "Newspaper                                                                        No   \n",
       "Digital Advertisement                                                            No   \n",
       "Through Recommendations                                                          No   \n",
       "Receive More Updates About Our Courses                                           No   \n",
       "Tags                                                                        Ringing   \n",
       "Lead Quality                                                               Not Sure   \n",
       "Update me on Supply Chain Content                                                No   \n",
       "Get updates on DM Content                                                        No   \n",
       "Lead Profile                                                                 Select   \n",
       "City                                                                         Mumbai   \n",
       "Asymmetrique Activity Index                                               02.Medium   \n",
       "Asymmetrique Profile Index                                                  01.High   \n",
       "Asymmetrique Activity Score                                                    13.0   \n",
       "Asymmetrique Profile Score                                                     17.0   \n",
       "I agree to pay the amount through cheque                                         No   \n",
       "A free copy of Mastering The Interview                                           No   \n",
       "Last Notable Activity                                                      Modified   \n",
       "\n",
       "                                                                                  4  \n",
       "Prospect ID                                    3256f628-e534-4826-9d63-4a8b88782852  \n",
       "Lead Number                                                                  660681  \n",
       "Lead Origin                                                 Landing Page Submission  \n",
       "Lead Source                                                                  Google  \n",
       "Do Not Email                                                                     No  \n",
       "Do Not Call                                                                      No  \n",
       "Converted                                                                         1  \n",
       "TotalVisits                                                                     2.0  \n",
       "Total Time Spent on Website                                                    1428  \n",
       "Page Views Per Visit                                                            1.0  \n",
       "Last Activity                                                     Converted to Lead  \n",
       "Country                                                                       India  \n",
       "Specialization                                                               Select  \n",
       "How did you hear about X Education                                            Other  \n",
       "What is your current occupation                                          Unemployed  \n",
       "What matters most to you in choosing a course               Better Career Prospects  \n",
       "Search                                                                           No  \n",
       "Magazine                                                                         No  \n",
       "Newspaper Article                                                                No  \n",
       "X Education Forums                                                               No  \n",
       "Newspaper                                                                        No  \n",
       "Digital Advertisement                                                            No  \n",
       "Through Recommendations                                                          No  \n",
       "Receive More Updates About Our Courses                                           No  \n",
       "Tags                                            Will revert after reading the email  \n",
       "Lead Quality                                                               Might be  \n",
       "Update me on Supply Chain Content                                                No  \n",
       "Get updates on DM Content                                                        No  \n",
       "Lead Profile                                                                 Select  \n",
       "City                                                                         Mumbai  \n",
       "Asymmetrique Activity Index                                               02.Medium  \n",
       "Asymmetrique Profile Index                                                  01.High  \n",
       "Asymmetrique Activity Score                                                    15.0  \n",
       "Asymmetrique Profile Score                                                     18.0  \n",
       "I agree to pay the amount through cheque                                         No  \n",
       "A free copy of Mastering The Interview                                           No  \n",
       "Last Notable Activity                                                      Modified  "
      ]
     },
     "execution_count": 59,
     "metadata": {},
     "output_type": "execute_result"
    }
   ],
   "source": [
    "leads.head().T"
   ]
  },
  {
   "cell_type": "markdown",
   "id": "55f80688",
   "metadata": {
    "id": "55f80688"
   },
   "source": [
    "#### Initial data preparation"
   ]
  },
  {
   "cell_type": "code",
   "execution_count": 60,
   "id": "06053252",
   "metadata": {
    "id": "06053252",
    "outputId": "17079ef1-5f95-4b08-e010-9121796770ca"
   },
   "outputs": [
    {
     "data": {
      "text/plain": [
       "9240"
      ]
     },
     "execution_count": 60,
     "metadata": {},
     "output_type": "execute_result"
    }
   ],
   "source": [
    "len(leads)"
   ]
  },
  {
   "cell_type": "markdown",
   "id": "62ed8169",
   "metadata": {
    "id": "62ed8169"
   },
   "source": [
    "It's enough data to create our model "
   ]
  },
  {
   "cell_type": "code",
   "execution_count": 61,
   "id": "7afd0285",
   "metadata": {
    "id": "7afd0285",
    "outputId": "e97f8a8f-5618-4009-d6e6-73be5268107b"
   },
   "outputs": [
    {
     "data": {
      "text/plain": [
       "0"
      ]
     },
     "execution_count": 61,
     "metadata": {},
     "output_type": "execute_result"
    }
   ],
   "source": [
    "leads['Prospect ID'].duplicated().sum()"
   ]
  },
  {
   "cell_type": "markdown",
   "id": "9b23bd5d",
   "metadata": {
    "id": "9b23bd5d"
   },
   "source": [
    "There're not duplicates, in our data"
   ]
  },
  {
   "cell_type": "code",
   "execution_count": 62,
   "id": "55c43b41",
   "metadata": {
    "id": "55c43b41",
    "outputId": "3c54bd76-580d-4336-a6c8-87c72768455b"
   },
   "outputs": [
    {
     "data": {
      "text/plain": [
       "Prospect ID                                       object\n",
       "Lead Number                                        int64\n",
       "Lead Origin                                       object\n",
       "Lead Source                                       object\n",
       "Do Not Email                                      object\n",
       "Do Not Call                                       object\n",
       "Converted                                          int64\n",
       "TotalVisits                                      float64\n",
       "Total Time Spent on Website                        int64\n",
       "Page Views Per Visit                             float64\n",
       "Last Activity                                     object\n",
       "Country                                           object\n",
       "Specialization                                    object\n",
       "How did you hear about X Education                object\n",
       "What is your current occupation                   object\n",
       "What matters most to you in choosing a course     object\n",
       "Search                                            object\n",
       "Magazine                                          object\n",
       "Newspaper Article                                 object\n",
       "X Education Forums                                object\n",
       "Newspaper                                         object\n",
       "Digital Advertisement                             object\n",
       "Through Recommendations                           object\n",
       "Receive More Updates About Our Courses            object\n",
       "Tags                                              object\n",
       "Lead Quality                                      object\n",
       "Update me on Supply Chain Content                 object\n",
       "Get updates on DM Content                         object\n",
       "Lead Profile                                      object\n",
       "City                                              object\n",
       "Asymmetrique Activity Index                       object\n",
       "Asymmetrique Profile Index                        object\n",
       "Asymmetrique Activity Score                      float64\n",
       "Asymmetrique Profile Score                       float64\n",
       "I agree to pay the amount through cheque          object\n",
       "A free copy of Mastering The Interview            object\n",
       "Last Notable Activity                             object\n",
       "dtype: object"
      ]
     },
     "execution_count": 62,
     "metadata": {},
     "output_type": "execute_result"
    }
   ],
   "source": [
    "leads.dtypes"
   ]
  },
  {
   "cell_type": "markdown",
   "id": "53513c26",
   "metadata": {
    "id": "53513c26"
   },
   "source": [
    "All columns have the correct dtype."
   ]
  },
  {
   "cell_type": "code",
   "execution_count": 63,
   "id": "69c7204c",
   "metadata": {
    "id": "69c7204c",
    "outputId": "44119fc7-d234-4310-caf0-efe4ac23a54d"
   },
   "outputs": [
    {
     "data": {
      "text/html": [
       "<div>\n",
       "<style scoped>\n",
       "    .dataframe tbody tr th:only-of-type {\n",
       "        vertical-align: middle;\n",
       "    }\n",
       "\n",
       "    .dataframe tbody tr th {\n",
       "        vertical-align: top;\n",
       "    }\n",
       "\n",
       "    .dataframe thead th {\n",
       "        text-align: right;\n",
       "    }\n",
       "</style>\n",
       "<table border=\"1\" class=\"dataframe\">\n",
       "  <thead>\n",
       "    <tr style=\"text-align: right;\">\n",
       "      <th></th>\n",
       "      <th>Missing Values</th>\n",
       "    </tr>\n",
       "  </thead>\n",
       "  <tbody>\n",
       "    <tr>\n",
       "      <th>Lead Quality</th>\n",
       "      <td>4767</td>\n",
       "    </tr>\n",
       "    <tr>\n",
       "      <th>Asymmetrique Activity Index</th>\n",
       "      <td>4218</td>\n",
       "    </tr>\n",
       "    <tr>\n",
       "      <th>Asymmetrique Profile Score</th>\n",
       "      <td>4218</td>\n",
       "    </tr>\n",
       "    <tr>\n",
       "      <th>Asymmetrique Activity Score</th>\n",
       "      <td>4218</td>\n",
       "    </tr>\n",
       "    <tr>\n",
       "      <th>Asymmetrique Profile Index</th>\n",
       "      <td>4218</td>\n",
       "    </tr>\n",
       "    <tr>\n",
       "      <th>Tags</th>\n",
       "      <td>3353</td>\n",
       "    </tr>\n",
       "    <tr>\n",
       "      <th>Lead Profile</th>\n",
       "      <td>2709</td>\n",
       "    </tr>\n",
       "    <tr>\n",
       "      <th>What matters most to you in choosing a course</th>\n",
       "      <td>2709</td>\n",
       "    </tr>\n",
       "    <tr>\n",
       "      <th>What is your current occupation</th>\n",
       "      <td>2690</td>\n",
       "    </tr>\n",
       "    <tr>\n",
       "      <th>Country</th>\n",
       "      <td>2461</td>\n",
       "    </tr>\n",
       "    <tr>\n",
       "      <th>How did you hear about X Education</th>\n",
       "      <td>2207</td>\n",
       "    </tr>\n",
       "    <tr>\n",
       "      <th>Specialization</th>\n",
       "      <td>1438</td>\n",
       "    </tr>\n",
       "    <tr>\n",
       "      <th>City</th>\n",
       "      <td>1420</td>\n",
       "    </tr>\n",
       "    <tr>\n",
       "      <th>Page Views Per Visit</th>\n",
       "      <td>137</td>\n",
       "    </tr>\n",
       "    <tr>\n",
       "      <th>TotalVisits</th>\n",
       "      <td>137</td>\n",
       "    </tr>\n",
       "    <tr>\n",
       "      <th>Last Activity</th>\n",
       "      <td>103</td>\n",
       "    </tr>\n",
       "    <tr>\n",
       "      <th>Lead Source</th>\n",
       "      <td>36</td>\n",
       "    </tr>\n",
       "    <tr>\n",
       "      <th>Receive More Updates About Our Courses</th>\n",
       "      <td>0</td>\n",
       "    </tr>\n",
       "    <tr>\n",
       "      <th>I agree to pay the amount through cheque</th>\n",
       "      <td>0</td>\n",
       "    </tr>\n",
       "    <tr>\n",
       "      <th>Get updates on DM Content</th>\n",
       "      <td>0</td>\n",
       "    </tr>\n",
       "    <tr>\n",
       "      <th>Update me on Supply Chain Content</th>\n",
       "      <td>0</td>\n",
       "    </tr>\n",
       "    <tr>\n",
       "      <th>A free copy of Mastering The Interview</th>\n",
       "      <td>0</td>\n",
       "    </tr>\n",
       "    <tr>\n",
       "      <th>Prospect ID</th>\n",
       "      <td>0</td>\n",
       "    </tr>\n",
       "    <tr>\n",
       "      <th>Newspaper Article</th>\n",
       "      <td>0</td>\n",
       "    </tr>\n",
       "    <tr>\n",
       "      <th>Through Recommendations</th>\n",
       "      <td>0</td>\n",
       "    </tr>\n",
       "    <tr>\n",
       "      <th>Digital Advertisement</th>\n",
       "      <td>0</td>\n",
       "    </tr>\n",
       "    <tr>\n",
       "      <th>Newspaper</th>\n",
       "      <td>0</td>\n",
       "    </tr>\n",
       "    <tr>\n",
       "      <th>X Education Forums</th>\n",
       "      <td>0</td>\n",
       "    </tr>\n",
       "    <tr>\n",
       "      <th>Lead Number</th>\n",
       "      <td>0</td>\n",
       "    </tr>\n",
       "    <tr>\n",
       "      <th>Magazine</th>\n",
       "      <td>0</td>\n",
       "    </tr>\n",
       "    <tr>\n",
       "      <th>Search</th>\n",
       "      <td>0</td>\n",
       "    </tr>\n",
       "    <tr>\n",
       "      <th>Total Time Spent on Website</th>\n",
       "      <td>0</td>\n",
       "    </tr>\n",
       "    <tr>\n",
       "      <th>Converted</th>\n",
       "      <td>0</td>\n",
       "    </tr>\n",
       "    <tr>\n",
       "      <th>Do Not Call</th>\n",
       "      <td>0</td>\n",
       "    </tr>\n",
       "    <tr>\n",
       "      <th>Do Not Email</th>\n",
       "      <td>0</td>\n",
       "    </tr>\n",
       "    <tr>\n",
       "      <th>Lead Origin</th>\n",
       "      <td>0</td>\n",
       "    </tr>\n",
       "    <tr>\n",
       "      <th>Last Notable Activity</th>\n",
       "      <td>0</td>\n",
       "    </tr>\n",
       "  </tbody>\n",
       "</table>\n",
       "</div>"
      ],
      "text/plain": [
       "                                               Missing Values\n",
       "Lead Quality                                             4767\n",
       "Asymmetrique Activity Index                              4218\n",
       "Asymmetrique Profile Score                               4218\n",
       "Asymmetrique Activity Score                              4218\n",
       "Asymmetrique Profile Index                               4218\n",
       "Tags                                                     3353\n",
       "Lead Profile                                             2709\n",
       "What matters most to you in choosing a course            2709\n",
       "What is your current occupation                          2690\n",
       "Country                                                  2461\n",
       "How did you hear about X Education                       2207\n",
       "Specialization                                           1438\n",
       "City                                                     1420\n",
       "Page Views Per Visit                                      137\n",
       "TotalVisits                                               137\n",
       "Last Activity                                             103\n",
       "Lead Source                                                36\n",
       "Receive More Updates About Our Courses                      0\n",
       "I agree to pay the amount through cheque                    0\n",
       "Get updates on DM Content                                   0\n",
       "Update me on Supply Chain Content                           0\n",
       "A free copy of Mastering The Interview                      0\n",
       "Prospect ID                                                 0\n",
       "Newspaper Article                                           0\n",
       "Through Recommendations                                     0\n",
       "Digital Advertisement                                       0\n",
       "Newspaper                                                   0\n",
       "X Education Forums                                          0\n",
       "Lead Number                                                 0\n",
       "Magazine                                                    0\n",
       "Search                                                      0\n",
       "Total Time Spent on Website                                 0\n",
       "Converted                                                   0\n",
       "Do Not Call                                                 0\n",
       "Do Not Email                                                0\n",
       "Lead Origin                                                 0\n",
       "Last Notable Activity                                       0"
      ]
     },
     "execution_count": 63,
     "metadata": {},
     "output_type": "execute_result"
    }
   ],
   "source": [
    "leads.isna().sum().to_frame(name='Missing Values').sort_values('Missing Values', ascending=False)"
   ]
  },
  {
   "cell_type": "markdown",
   "id": "a0f382c2",
   "metadata": {
    "id": "a0f382c2"
   },
   "source": [
    "If column has missing values more than 3000 it is not an efficient data. We drop that columns."
   ]
  },
  {
   "cell_type": "code",
   "execution_count": 64,
   "id": "22065832",
   "metadata": {
    "id": "22065832"
   },
   "outputs": [],
   "source": [
    "for i in leads.columns:\n",
    "    if leads[i].isna().sum()>3000:\n",
    "        leads.drop(i, axis=1, inplace=True)"
   ]
  },
  {
   "cell_type": "markdown",
   "id": "62274441",
   "metadata": {
    "id": "62274441"
   },
   "source": [
    "We check and correct each column."
   ]
  },
  {
   "cell_type": "markdown",
   "id": "8dd303fb",
   "metadata": {
    "id": "8dd303fb"
   },
   "source": [
    "1. Lead Source"
   ]
  },
  {
   "cell_type": "code",
   "execution_count": 65,
   "id": "6a02b291",
   "metadata": {
    "id": "6a02b291",
    "outputId": "65824386-d03f-4619-cf69-cb898279754f"
   },
   "outputs": [
    {
     "data": {
      "text/plain": [
       "Google               2868\n",
       "Direct Traffic       2543\n",
       "Olark Chat           1755\n",
       "Organic Search       1154\n",
       "Reference             534\n",
       "Welingak Website      142\n",
       "Referral Sites        125\n",
       "Facebook               55\n",
       "bing                    6\n",
       "google                  5\n",
       "Click2call              4\n",
       "Press_Release           2\n",
       "Social Media            2\n",
       "Live Chat               2\n",
       "NC_EDM                  1\n",
       "WeLearn                 1\n",
       "youtubechannel          1\n",
       "blog                    1\n",
       "Pay per Click Ads       1\n",
       "testone                 1\n",
       "welearnblog_Home        1\n",
       "Name: Lead Source, dtype: int64"
      ]
     },
     "execution_count": 65,
     "metadata": {},
     "output_type": "execute_result"
    }
   ],
   "source": [
    "leads['Lead Source'].value_counts()"
   ]
  },
  {
   "cell_type": "code",
   "execution_count": 66,
   "id": "f253bdd3",
   "metadata": {
    "id": "f253bdd3"
   },
   "outputs": [],
   "source": [
    "leads['Lead Source'].fillna('Google', inplace=True)"
   ]
  },
  {
   "cell_type": "markdown",
   "id": "f2ea6a57",
   "metadata": {
    "id": "f2ea6a57"
   },
   "source": [
    "In 'Lead Source' column, we fill missing values with the most frequent one"
   ]
  },
  {
   "cell_type": "code",
   "execution_count": 67,
   "id": "110977c4",
   "metadata": {
    "id": "110977c4"
   },
   "outputs": [],
   "source": [
    "leads['Lead Source'] = leads['Lead Source'].str.replace('google', 'Google')"
   ]
  },
  {
   "cell_type": "markdown",
   "id": "d2c07cfd",
   "metadata": {
    "id": "d2c07cfd"
   },
   "source": [
    "And also we check and correct if columns name are not written differently."
   ]
  },
  {
   "cell_type": "code",
   "execution_count": 68,
   "id": "555908f9",
   "metadata": {
    "id": "555908f9",
    "outputId": "fb873fd7-305f-4e51-8069-3fa2b1c27b74"
   },
   "outputs": [
    {
     "data": {
      "text/plain": [
       "array(['Olark Chat', 'Organic Search', 'Direct Traffic', 'Google',\n",
       "       'Referral Sites', 'Welingak Website', 'Reference', 'Facebook',\n",
       "       'blog', 'Pay per Click Ads', 'bing', 'Social Media', 'WeLearn',\n",
       "       'Click2call', 'Live Chat', 'welearnblog_Home', 'youtubechannel',\n",
       "       'testone', 'Press_Release', 'NC_EDM'], dtype=object)"
      ]
     },
     "execution_count": 68,
     "metadata": {},
     "output_type": "execute_result"
    }
   ],
   "source": [
    "leads['Lead Source'].unique()"
   ]
  },
  {
   "cell_type": "markdown",
   "id": "48c6e78c",
   "metadata": {
    "id": "48c6e78c"
   },
   "source": [
    "2. Last Activity"
   ]
  },
  {
   "cell_type": "code",
   "execution_count": 69,
   "id": "fba9479e",
   "metadata": {
    "id": "fba9479e",
    "outputId": "ad91876e-19e0-4922-c848-f72501a98c69"
   },
   "outputs": [
    {
     "data": {
      "text/plain": [
       "Email Opened                    3437\n",
       "SMS Sent                        2745\n",
       "Olark Chat Conversation          973\n",
       "Page Visited on Website          640\n",
       "Converted to Lead                428\n",
       "Email Bounced                    326\n",
       "Email Link Clicked               267\n",
       "Form Submitted on Website        116\n",
       "Unreachable                       93\n",
       "Unsubscribed                      61\n",
       "Had a Phone Conversation          30\n",
       "Approached upfront                 9\n",
       "View in browser link Clicked       6\n",
       "Email Marked Spam                  2\n",
       "Email Received                     2\n",
       "Visited Booth in Tradeshow         1\n",
       "Resubscribed to emails             1\n",
       "Name: Last Activity, dtype: int64"
      ]
     },
     "execution_count": 69,
     "metadata": {},
     "output_type": "execute_result"
    }
   ],
   "source": [
    "leads['Last Activity'].value_counts()"
   ]
  },
  {
   "cell_type": "markdown",
   "id": "aca96c9c",
   "metadata": {
    "id": "aca96c9c"
   },
   "source": [
    "If we don't have information about last activity of leads, let's simply fill that rows with \"Other\""
   ]
  },
  {
   "cell_type": "code",
   "execution_count": 70,
   "id": "273ecead",
   "metadata": {
    "id": "273ecead"
   },
   "outputs": [],
   "source": [
    "leads['Last Activity'].fillna('Other', inplace=True)"
   ]
  },
  {
   "cell_type": "markdown",
   "id": "a425e0eb",
   "metadata": {
    "id": "a425e0eb"
   },
   "source": [
    "3. City"
   ]
  },
  {
   "cell_type": "code",
   "execution_count": 71,
   "id": "e0a62427",
   "metadata": {
    "id": "e0a62427",
    "outputId": "00de9f78-0d11-4771-a994-efdaa35d459c"
   },
   "outputs": [
    {
     "data": {
      "text/plain": [
       "Mumbai                         3222\n",
       "Select                         2249\n",
       "Thane & Outskirts               752\n",
       "Other Cities                    686\n",
       "Other Cities of Maharashtra     457\n",
       "Other Metro Cities              380\n",
       "Tier II Cities                   74\n",
       "Name: City, dtype: int64"
      ]
     },
     "execution_count": 71,
     "metadata": {},
     "output_type": "execute_result"
    }
   ],
   "source": [
    "leads['City'].value_counts()"
   ]
  },
  {
   "cell_type": "markdown",
   "id": "71ba1a1a",
   "metadata": {
    "id": "71ba1a1a"
   },
   "source": [
    "We see some rows are named \"Select\". Those leads haven'y chosen the city, and we also fill missing values with \"Select\"."
   ]
  },
  {
   "cell_type": "code",
   "execution_count": 72,
   "id": "3ca51fee",
   "metadata": {
    "id": "3ca51fee"
   },
   "outputs": [],
   "source": [
    "leads['City'].fillna('Select', inplace=True)"
   ]
  },
  {
   "cell_type": "markdown",
   "id": "c83c6263",
   "metadata": {
    "id": "c83c6263"
   },
   "source": [
    "4. Specialization"
   ]
  },
  {
   "cell_type": "code",
   "execution_count": 73,
   "id": "fcdf1cc9",
   "metadata": {
    "id": "fcdf1cc9",
    "outputId": "8a68560a-c95f-4957-a8c1-a37e72d76659"
   },
   "outputs": [
    {
     "data": {
      "text/plain": [
       "Select                               1942\n",
       "Finance Management                    976\n",
       "Human Resource Management             848\n",
       "Marketing Management                  838\n",
       "Operations Management                 503\n",
       "Business Administration               403\n",
       "IT Projects Management                366\n",
       "Supply Chain Management               349\n",
       "Banking, Investment And Insurance     338\n",
       "Travel and Tourism                    203\n",
       "Media and Advertising                 203\n",
       "International Business                178\n",
       "Healthcare Management                 159\n",
       "Hospitality Management                114\n",
       "E-COMMERCE                            112\n",
       "Retail Management                     100\n",
       "Rural and Agribusiness                 73\n",
       "E-Business                             57\n",
       "Services Excellence                    40\n",
       "Name: Specialization, dtype: int64"
      ]
     },
     "execution_count": 73,
     "metadata": {},
     "output_type": "execute_result"
    }
   ],
   "source": [
    "leads['Specialization'].value_counts()"
   ]
  },
  {
   "cell_type": "markdown",
   "id": "15465d6c",
   "metadata": {
    "id": "15465d6c"
   },
   "source": [
    "We see some rows are named \"Select\". Those leads haven'y chosen the specialization, and we also fill missing values with \"Select\"."
   ]
  },
  {
   "cell_type": "code",
   "execution_count": 74,
   "id": "93cbf1a9",
   "metadata": {
    "id": "93cbf1a9"
   },
   "outputs": [],
   "source": [
    "leads['Specialization'].fillna('Select', inplace=True)"
   ]
  },
  {
   "cell_type": "markdown",
   "id": "61f3f53e",
   "metadata": {
    "id": "61f3f53e"
   },
   "source": [
    "5. How did you hear about X Education"
   ]
  },
  {
   "cell_type": "code",
   "execution_count": 75,
   "id": "5cce205d",
   "metadata": {
    "id": "5cce205d",
    "outputId": "1defb713-5dd2-4302-d091-2203d46b90ad"
   },
   "outputs": [
    {
     "data": {
      "text/plain": [
       "Select                   5043\n",
       "Online Search             808\n",
       "Word Of Mouth             348\n",
       "Student of SomeSchool     310\n",
       "Other                     186\n",
       "Multiple Sources          152\n",
       "Advertisements             70\n",
       "Social Media               67\n",
       "Email                      26\n",
       "SMS                        23\n",
       "Name: How did you hear about X Education, dtype: int64"
      ]
     },
     "execution_count": 75,
     "metadata": {},
     "output_type": "execute_result"
    }
   ],
   "source": [
    "leads['How did you hear about X Education'].value_counts()"
   ]
  },
  {
   "cell_type": "markdown",
   "id": "13e70c0a",
   "metadata": {
    "id": "13e70c0a"
   },
   "source": [
    "We see some rows are named \"Select\". Those leads haven'y chosen the How did you hear about X Education, and we also fill missing values with \"Select\"."
   ]
  },
  {
   "cell_type": "code",
   "execution_count": 76,
   "id": "9411aed4",
   "metadata": {
    "id": "9411aed4"
   },
   "outputs": [],
   "source": [
    "leads['How did you hear about X Education'].fillna('Select', inplace=True)"
   ]
  },
  {
   "cell_type": "markdown",
   "id": "3f26c9e3",
   "metadata": {
    "id": "3f26c9e3"
   },
   "source": [
    "6. Country"
   ]
  },
  {
   "cell_type": "code",
   "execution_count": 77,
   "id": "7379d98e",
   "metadata": {
    "id": "7379d98e",
    "outputId": "56e488c1-6a46-4d93-8ef2-2c4bd9f8fa46"
   },
   "outputs": [
    {
     "data": {
      "text/plain": [
       "India                   6492\n",
       "United States             69\n",
       "United Arab Emirates      53\n",
       "Singapore                 24\n",
       "Saudi Arabia              21\n",
       "United Kingdom            15\n",
       "Australia                 13\n",
       "Qatar                     10\n",
       "Hong Kong                  7\n",
       "Bahrain                    7\n",
       "Oman                       6\n",
       "France                     6\n",
       "unknown                    5\n",
       "South Africa               4\n",
       "Kuwait                     4\n",
       "Canada                     4\n",
       "Germany                    4\n",
       "Nigeria                    4\n",
       "Sweden                     3\n",
       "Asia/Pacific Region        2\n",
       "Bangladesh                 2\n",
       "Ghana                      2\n",
       "Italy                      2\n",
       "Netherlands                2\n",
       "Philippines                2\n",
       "China                      2\n",
       "Uganda                     2\n",
       "Belgium                    2\n",
       "Indonesia                  1\n",
       "Tanzania                   1\n",
       "Vietnam                    1\n",
       "Russia                     1\n",
       "Liberia                    1\n",
       "Kenya                      1\n",
       "Sri Lanka                  1\n",
       "Switzerland                1\n",
       "Denmark                    1\n",
       "Malaysia                   1\n",
       "Name: Country, dtype: int64"
      ]
     },
     "execution_count": 77,
     "metadata": {},
     "output_type": "execute_result"
    }
   ],
   "source": [
    "leads['Country'].value_counts()"
   ]
  },
  {
   "cell_type": "code",
   "execution_count": 78,
   "id": "985ac417",
   "metadata": {
    "id": "985ac417",
    "outputId": "277e4e57-713a-44bb-9606-8446588ae887"
   },
   "outputs": [
    {
     "data": {
      "text/plain": [
       "array(['Select', 'Thane & Outskirts', 'Other Cities of Maharashtra',\n",
       "       'Mumbai', 'Other Cities', 'Other Metro Cities', 'Tier II Cities'],\n",
       "      dtype=object)"
      ]
     },
     "execution_count": 78,
     "metadata": {},
     "output_type": "execute_result"
    }
   ],
   "source": [
    "leads[(leads['Country'].isna())&(leads['City'].isna()==False)]['City'].unique()"
   ]
  },
  {
   "cell_type": "markdown",
   "id": "6510cf4f",
   "metadata": {
    "id": "6510cf4f"
   },
   "source": [
    "We check what values city column have when Country column's variables are missing."
   ]
  },
  {
   "cell_type": "code",
   "execution_count": 79,
   "id": "4022c239",
   "metadata": {
    "id": "4022c239"
   },
   "outputs": [],
   "source": [
    "leads.loc[(leads['Country'].isna())&(leads['City']=='Mumbai'), 'Country'] = 'India'\n",
    "leads.loc[(leads['Country'].isna())&(leads['City']=='Other Cities of Maharashtra'), 'Country'] = 'India'\n",
    "leads['Country'].fillna('unknown', inplace=True)"
   ]
  },
  {
   "cell_type": "markdown",
   "id": "bb349fd1",
   "metadata": {
    "id": "bb349fd1"
   },
   "source": [
    "Mumbai and Maharashtra are in India, we can fill that missing rows with India. But for rest we will fill with \"unknown\"."
   ]
  },
  {
   "cell_type": "markdown",
   "id": "403ae4b3",
   "metadata": {
    "id": "403ae4b3"
   },
   "source": [
    "7. What is your current occupation"
   ]
  },
  {
   "cell_type": "code",
   "execution_count": 80,
   "id": "a48ad0b9",
   "metadata": {
    "id": "a48ad0b9",
    "outputId": "d1baeeba-9472-47b9-9486-4f05d3685b44"
   },
   "outputs": [
    {
     "data": {
      "text/plain": [
       "Unemployed              5600\n",
       "Working Professional     706\n",
       "Student                  210\n",
       "Other                     16\n",
       "Housewife                 10\n",
       "Businessman                8\n",
       "Name: What is your current occupation, dtype: int64"
      ]
     },
     "execution_count": 80,
     "metadata": {},
     "output_type": "execute_result"
    }
   ],
   "source": [
    "leads['What is your current occupation'].value_counts()"
   ]
  },
  {
   "cell_type": "code",
   "execution_count": 81,
   "id": "1a6b97bc",
   "metadata": {
    "id": "1a6b97bc"
   },
   "outputs": [],
   "source": [
    "leads['What is your current occupation'].fillna('Other', inplace=True)"
   ]
  },
  {
   "cell_type": "markdown",
   "id": "fe483b47",
   "metadata": {
    "id": "fe483b47"
   },
   "source": [
    "8. Lead Profile"
   ]
  },
  {
   "cell_type": "code",
   "execution_count": 82,
   "id": "a68f337f",
   "metadata": {
    "id": "a68f337f",
    "outputId": "958d18c4-49e4-4220-eb82-c1de12a75bc5"
   },
   "outputs": [
    {
     "data": {
      "text/plain": [
       "Select                         4146\n",
       "Potential Lead                 1613\n",
       "Other Leads                     487\n",
       "Student of SomeSchool           241\n",
       "Lateral Student                  24\n",
       "Dual Specialization Student      20\n",
       "Name: Lead Profile, dtype: int64"
      ]
     },
     "execution_count": 82,
     "metadata": {},
     "output_type": "execute_result"
    }
   ],
   "source": [
    "leads['Lead Profile'].value_counts()"
   ]
  },
  {
   "cell_type": "code",
   "execution_count": 83,
   "id": "844db136",
   "metadata": {
    "id": "844db136"
   },
   "outputs": [],
   "source": [
    "leads['Lead Profile'].fillna('Select', inplace=True)"
   ]
  },
  {
   "cell_type": "markdown",
   "id": "7b1a2af9",
   "metadata": {
    "id": "7b1a2af9"
   },
   "source": [
    "9. What matters most to you in choosing a course"
   ]
  },
  {
   "cell_type": "code",
   "execution_count": 84,
   "id": "025b6f50",
   "metadata": {
    "id": "025b6f50",
    "outputId": "c3c814d4-7db3-46ed-d40d-f00b85e280a4"
   },
   "outputs": [
    {
     "data": {
      "text/plain": [
       "Better Career Prospects      6528\n",
       "Flexibility & Convenience       2\n",
       "Other                           1\n",
       "Name: What matters most to you in choosing a course, dtype: int64"
      ]
     },
     "execution_count": 84,
     "metadata": {},
     "output_type": "execute_result"
    }
   ],
   "source": [
    "leads['What matters most to you in choosing a course'].value_counts()"
   ]
  },
  {
   "cell_type": "code",
   "execution_count": 85,
   "id": "68cec527",
   "metadata": {
    "id": "68cec527"
   },
   "outputs": [],
   "source": [
    "leads['What matters most to you in choosing a course'].fillna('Other', inplace=True)"
   ]
  },
  {
   "cell_type": "markdown",
   "id": "b7bd4b4b",
   "metadata": {
    "id": "b7bd4b4b"
   },
   "source": [
    "10. TotalVisits"
   ]
  },
  {
   "cell_type": "code",
   "execution_count": 86,
   "id": "e49d94a5",
   "metadata": {
    "id": "e49d94a5",
    "outputId": "c00a19d8-31f8-4827-b47b-1ce323d94249"
   },
   "outputs": [
    {
     "data": {
      "text/html": [
       "<div>\n",
       "<style scoped>\n",
       "    .dataframe tbody tr th:only-of-type {\n",
       "        vertical-align: middle;\n",
       "    }\n",
       "\n",
       "    .dataframe tbody tr th {\n",
       "        vertical-align: top;\n",
       "    }\n",
       "\n",
       "    .dataframe thead th {\n",
       "        text-align: right;\n",
       "    }\n",
       "</style>\n",
       "<table border=\"1\" class=\"dataframe\">\n",
       "  <thead>\n",
       "    <tr style=\"text-align: right;\">\n",
       "      <th></th>\n",
       "      <th>Lead Number</th>\n",
       "      <th>Converted</th>\n",
       "      <th>TotalVisits</th>\n",
       "      <th>Total Time Spent on Website</th>\n",
       "      <th>Page Views Per Visit</th>\n",
       "    </tr>\n",
       "  </thead>\n",
       "  <tbody>\n",
       "    <tr>\n",
       "      <th>count</th>\n",
       "      <td>9240.000000</td>\n",
       "      <td>9240.000000</td>\n",
       "      <td>9103.000000</td>\n",
       "      <td>9240.000000</td>\n",
       "      <td>9103.000000</td>\n",
       "    </tr>\n",
       "    <tr>\n",
       "      <th>mean</th>\n",
       "      <td>617188.435606</td>\n",
       "      <td>0.385390</td>\n",
       "      <td>3.445238</td>\n",
       "      <td>487.698268</td>\n",
       "      <td>2.362820</td>\n",
       "    </tr>\n",
       "    <tr>\n",
       "      <th>std</th>\n",
       "      <td>23405.995698</td>\n",
       "      <td>0.486714</td>\n",
       "      <td>4.854853</td>\n",
       "      <td>548.021466</td>\n",
       "      <td>2.161418</td>\n",
       "    </tr>\n",
       "    <tr>\n",
       "      <th>min</th>\n",
       "      <td>579533.000000</td>\n",
       "      <td>0.000000</td>\n",
       "      <td>0.000000</td>\n",
       "      <td>0.000000</td>\n",
       "      <td>0.000000</td>\n",
       "    </tr>\n",
       "    <tr>\n",
       "      <th>25%</th>\n",
       "      <td>596484.500000</td>\n",
       "      <td>0.000000</td>\n",
       "      <td>1.000000</td>\n",
       "      <td>12.000000</td>\n",
       "      <td>1.000000</td>\n",
       "    </tr>\n",
       "    <tr>\n",
       "      <th>50%</th>\n",
       "      <td>615479.000000</td>\n",
       "      <td>0.000000</td>\n",
       "      <td>3.000000</td>\n",
       "      <td>248.000000</td>\n",
       "      <td>2.000000</td>\n",
       "    </tr>\n",
       "    <tr>\n",
       "      <th>75%</th>\n",
       "      <td>637387.250000</td>\n",
       "      <td>1.000000</td>\n",
       "      <td>5.000000</td>\n",
       "      <td>936.000000</td>\n",
       "      <td>3.000000</td>\n",
       "    </tr>\n",
       "    <tr>\n",
       "      <th>max</th>\n",
       "      <td>660737.000000</td>\n",
       "      <td>1.000000</td>\n",
       "      <td>251.000000</td>\n",
       "      <td>2272.000000</td>\n",
       "      <td>55.000000</td>\n",
       "    </tr>\n",
       "  </tbody>\n",
       "</table>\n",
       "</div>"
      ],
      "text/plain": [
       "         Lead Number    Converted  TotalVisits  Total Time Spent on Website  \\\n",
       "count    9240.000000  9240.000000  9103.000000                  9240.000000   \n",
       "mean   617188.435606     0.385390     3.445238                   487.698268   \n",
       "std     23405.995698     0.486714     4.854853                   548.021466   \n",
       "min    579533.000000     0.000000     0.000000                     0.000000   \n",
       "25%    596484.500000     0.000000     1.000000                    12.000000   \n",
       "50%    615479.000000     0.000000     3.000000                   248.000000   \n",
       "75%    637387.250000     1.000000     5.000000                   936.000000   \n",
       "max    660737.000000     1.000000   251.000000                  2272.000000   \n",
       "\n",
       "       Page Views Per Visit  \n",
       "count           9103.000000  \n",
       "mean               2.362820  \n",
       "std                2.161418  \n",
       "min                0.000000  \n",
       "25%                1.000000  \n",
       "50%                2.000000  \n",
       "75%                3.000000  \n",
       "max               55.000000  "
      ]
     },
     "execution_count": 86,
     "metadata": {},
     "output_type": "execute_result"
    }
   ],
   "source": [
    "leads.describe()"
   ]
  },
  {
   "cell_type": "code",
   "execution_count": 87,
   "id": "8c965dd6",
   "metadata": {
    "id": "8c965dd6"
   },
   "outputs": [],
   "source": [
    "leads['TotalVisits'].fillna(3, inplace=True)"
   ]
  },
  {
   "cell_type": "markdown",
   "id": "0bb21ad9",
   "metadata": {
    "id": "0bb21ad9"
   },
   "source": [
    "11. Page Views Per Visit"
   ]
  },
  {
   "cell_type": "code",
   "execution_count": 88,
   "id": "8aa75b46",
   "metadata": {
    "id": "8aa75b46"
   },
   "outputs": [],
   "source": [
    "leads['Page Views Per Visit'].fillna(2, inplace=True)"
   ]
  },
  {
   "cell_type": "markdown",
   "id": "aeb30cc1",
   "metadata": {
    "id": "aeb30cc1"
   },
   "source": [
    "Let's make all column names follow the same nameing convention"
   ]
  },
  {
   "cell_type": "code",
   "execution_count": 89,
   "id": "9fcc1675",
   "metadata": {
    "id": "9fcc1675"
   },
   "outputs": [],
   "source": [
    "leads.columns = leads.columns.str.lower().str.replace(' ','_')\n",
    "string_columns = list(leads.dtypes[leads.dtypes=='Object'].index)\n",
    "\n",
    "for col in string_columns:\n",
    "    leads[col] = leads[col].str.lower().str.replace(' ', '_')"
   ]
  },
  {
   "cell_type": "markdown",
   "id": "ec533a89",
   "metadata": {
    "id": "ec533a89"
   },
   "source": [
    "Split our data into trian and test datasets"
   ]
  },
  {
   "cell_type": "code",
   "execution_count": 90,
   "id": "f68d7ab2",
   "metadata": {
    "id": "f68d7ab2"
   },
   "outputs": [],
   "source": [
    "from sklearn.model_selection import train_test_split"
   ]
  },
  {
   "cell_type": "code",
   "execution_count": 91,
   "id": "4e54432d",
   "metadata": {
    "id": "4e54432d"
   },
   "outputs": [],
   "source": [
    "train_full, test_X = train_test_split(leads, test_size=0.2, random_state=1)  "
   ]
  },
  {
   "cell_type": "code",
   "execution_count": 92,
   "id": "eac0ce84",
   "metadata": {
    "id": "eac0ce84"
   },
   "outputs": [],
   "source": [
    "train_X, val_X = train_test_split(train_full, test_size=0.2, random_state=1)"
   ]
  },
  {
   "cell_type": "code",
   "execution_count": 93,
   "id": "98ac33a7",
   "metadata": {
    "id": "98ac33a7"
   },
   "outputs": [],
   "source": [
    "train_y = train_X['converted'].values.reshape(-1,1)\n",
    "val_y = val_X['converted'].values.reshape(-1,1)\n",
    "test_y = test_X['converted'].values.reshape(-1,1)"
   ]
  },
  {
   "cell_type": "code",
   "execution_count": 94,
   "id": "caa83fe2",
   "metadata": {
    "id": "caa83fe2",
    "outputId": "b80b47d5-bd17-48ca-806d-d585f1327e70"
   },
   "outputs": [
    {
     "name": "stdout",
     "output_type": "stream",
     "text": [
      "5913\n",
      "1479\n",
      "1848\n"
     ]
    }
   ],
   "source": [
    "print(f'{len(train_y)}\\n{len(val_y)}\\n{len(test_y)}')"
   ]
  },
  {
   "cell_type": "markdown",
   "id": "ea181a3e",
   "metadata": {
    "id": "ea181a3e"
   },
   "source": [
    "#### Explotary Data Analysis"
   ]
  },
  {
   "cell_type": "markdown",
   "id": "db148971",
   "metadata": {
    "id": "db148971"
   },
   "source": [
    "Let's make two lists: categorical, containing names of categorical variables and numerical, containing names of numerical variables"
   ]
  },
  {
   "cell_type": "code",
   "execution_count": 95,
   "id": "4bedce85",
   "metadata": {
    "id": "4bedce85"
   },
   "outputs": [],
   "source": [
    "categorical_df = leads.select_dtypes(include='object')\n",
    "categorical_df.drop(['prospect_id'], axis=1, inplace=True)\n",
    "categorical = list(categorical_df.columns)\n",
    "\n",
    "numerical_df = leads.select_dtypes(exclude='object')\n",
    "numerical_df.drop(['lead_number', 'converted'], axis=1, inplace=True)\n",
    "numerical = list(numerical_df)"
   ]
  },
  {
   "cell_type": "code",
   "execution_count": 96,
   "id": "1bda2cec",
   "metadata": {
    "id": "1bda2cec",
    "outputId": "b45bdd82-e6bf-4243-803c-eff719d6797a",
    "scrolled": false
   },
   "outputs": [
    {
     "data": {
      "text/html": [
       "<div>\n",
       "<style scoped>\n",
       "    .dataframe tbody tr th:only-of-type {\n",
       "        vertical-align: middle;\n",
       "    }\n",
       "\n",
       "    .dataframe tbody tr th {\n",
       "        vertical-align: top;\n",
       "    }\n",
       "\n",
       "    .dataframe thead th {\n",
       "        text-align: right;\n",
       "    }\n",
       "</style>\n",
       "<table border=\"1\" class=\"dataframe\">\n",
       "  <thead>\n",
       "    <tr style=\"text-align: right;\">\n",
       "      <th></th>\n",
       "      <th>nunique</th>\n",
       "    </tr>\n",
       "  </thead>\n",
       "  <tbody>\n",
       "    <tr>\n",
       "      <th>country</th>\n",
       "      <td>35</td>\n",
       "    </tr>\n",
       "    <tr>\n",
       "      <th>lead_source</th>\n",
       "      <td>19</td>\n",
       "    </tr>\n",
       "    <tr>\n",
       "      <th>specialization</th>\n",
       "      <td>19</td>\n",
       "    </tr>\n",
       "    <tr>\n",
       "      <th>last_activity</th>\n",
       "      <td>17</td>\n",
       "    </tr>\n",
       "    <tr>\n",
       "      <th>last_notable_activity</th>\n",
       "      <td>15</td>\n",
       "    </tr>\n",
       "    <tr>\n",
       "      <th>how_did_you_hear_about_x_education</th>\n",
       "      <td>10</td>\n",
       "    </tr>\n",
       "    <tr>\n",
       "      <th>city</th>\n",
       "      <td>7</td>\n",
       "    </tr>\n",
       "    <tr>\n",
       "      <th>lead_profile</th>\n",
       "      <td>6</td>\n",
       "    </tr>\n",
       "    <tr>\n",
       "      <th>what_is_your_current_occupation</th>\n",
       "      <td>6</td>\n",
       "    </tr>\n",
       "    <tr>\n",
       "      <th>lead_origin</th>\n",
       "      <td>5</td>\n",
       "    </tr>\n",
       "    <tr>\n",
       "      <th>search</th>\n",
       "      <td>2</td>\n",
       "    </tr>\n",
       "    <tr>\n",
       "      <th>what_matters_most_to_you_in_choosing_a_course</th>\n",
       "      <td>2</td>\n",
       "    </tr>\n",
       "    <tr>\n",
       "      <th>newspaper</th>\n",
       "      <td>2</td>\n",
       "    </tr>\n",
       "    <tr>\n",
       "      <th>digital_advertisement</th>\n",
       "      <td>2</td>\n",
       "    </tr>\n",
       "    <tr>\n",
       "      <th>through_recommendations</th>\n",
       "      <td>2</td>\n",
       "    </tr>\n",
       "    <tr>\n",
       "      <th>do_not_call</th>\n",
       "      <td>2</td>\n",
       "    </tr>\n",
       "    <tr>\n",
       "      <th>do_not_email</th>\n",
       "      <td>2</td>\n",
       "    </tr>\n",
       "    <tr>\n",
       "      <th>a_free_copy_of_mastering_the_interview</th>\n",
       "      <td>2</td>\n",
       "    </tr>\n",
       "    <tr>\n",
       "      <th>newspaper_article</th>\n",
       "      <td>2</td>\n",
       "    </tr>\n",
       "    <tr>\n",
       "      <th>magazine</th>\n",
       "      <td>1</td>\n",
       "    </tr>\n",
       "    <tr>\n",
       "      <th>x_education_forums</th>\n",
       "      <td>1</td>\n",
       "    </tr>\n",
       "    <tr>\n",
       "      <th>receive_more_updates_about_our_courses</th>\n",
       "      <td>1</td>\n",
       "    </tr>\n",
       "    <tr>\n",
       "      <th>update_me_on_supply_chain_content</th>\n",
       "      <td>1</td>\n",
       "    </tr>\n",
       "    <tr>\n",
       "      <th>get_updates_on_dm_content</th>\n",
       "      <td>1</td>\n",
       "    </tr>\n",
       "    <tr>\n",
       "      <th>i_agree_to_pay_the_amount_through_cheque</th>\n",
       "      <td>1</td>\n",
       "    </tr>\n",
       "  </tbody>\n",
       "</table>\n",
       "</div>"
      ],
      "text/plain": [
       "                                               nunique\n",
       "country                                             35\n",
       "lead_source                                         19\n",
       "specialization                                      19\n",
       "last_activity                                       17\n",
       "last_notable_activity                               15\n",
       "how_did_you_hear_about_x_education                  10\n",
       "city                                                 7\n",
       "lead_profile                                         6\n",
       "what_is_your_current_occupation                      6\n",
       "lead_origin                                          5\n",
       "search                                               2\n",
       "what_matters_most_to_you_in_choosing_a_course        2\n",
       "newspaper                                            2\n",
       "digital_advertisement                                2\n",
       "through_recommendations                              2\n",
       "do_not_call                                          2\n",
       "do_not_email                                         2\n",
       "a_free_copy_of_mastering_the_interview               2\n",
       "newspaper_article                                    2\n",
       "magazine                                             1\n",
       "x_education_forums                                   1\n",
       "receive_more_updates_about_our_courses               1\n",
       "update_me_on_supply_chain_content                    1\n",
       "get_updates_on_dm_content                            1\n",
       "i_agree_to_pay_the_amount_through_cheque             1"
      ]
     },
     "execution_count": 96,
     "metadata": {},
     "output_type": "execute_result"
    }
   ],
   "source": [
    "train_X[categorical].nunique().to_frame('nunique').sort_values('nunique', ascending=False)"
   ]
  },
  {
   "cell_type": "code",
   "execution_count": 97,
   "id": "8866f0ec",
   "metadata": {
    "id": "8866f0ec",
    "outputId": "127b6062-72d6-4813-d9eb-a12dd682c9fa"
   },
   "outputs": [
    {
     "data": {
      "text/plain": [
       "0    3629\n",
       "1    2284\n",
       "Name: converted, dtype: int64"
      ]
     },
     "execution_count": 97,
     "metadata": {},
     "output_type": "execute_result"
    }
   ],
   "source": [
    "train_X['converted'].value_counts()"
   ]
  },
  {
   "cell_type": "markdown",
   "id": "ec11b913",
   "metadata": {
    "id": "ec11b913"
   },
   "source": [
    "In our data, 2832 leads converted their contract and 4560 leads didn't convert. In order to find convering rate we can divide 2831 by 4560 or use mean() funtion, which will do the same thing."
   ]
  },
  {
   "cell_type": "code",
   "execution_count": 98,
   "id": "c50b2c5a",
   "metadata": {
    "id": "c50b2c5a",
    "outputId": "7c10ae8a-7460-46b1-8a44-ff66c7d10f41"
   },
   "outputs": [
    {
     "name": "stdout",
     "output_type": "stream",
     "text": [
      "Only 38.6% of leads have been successfully converted.\n"
     ]
    }
   ],
   "source": [
    "global_mean = round(train_X['converted'].mean(),3)\n",
    "print(f'Only {global_mean*100}% of leads have been successfully converted.')"
   ]
  },
  {
   "cell_type": "markdown",
   "id": "20c8304f",
   "metadata": {
    "id": "20c8304f"
   },
   "source": [
    "If we choose specific column and find converted mean, we will know converting rate of that group. We can do it by groupby function.\n",
    "\n",
    "If difference between global converting rate and that column's converting rate is positive, it means that this group of leads convert their contracts more than general. If it's negative, they convert less than general. And if difference between the rates is the small, the value is not important when predicting converting because this group of leads is not really different from rest of leads.\n",
    "\n",
    "Reliability = global rate / group rate. If reliability is lower than 1, the group has lower reliability. And if group reliability is around 1, it's not different from global rate. And if it's above 1, it means that it has more reability that leads will convert their contracts. "
   ]
  },
  {
   "cell_type": "code",
   "execution_count": 99,
   "id": "885c65dc",
   "metadata": {
    "id": "885c65dc",
    "outputId": "b6c488e6-c661-42f3-c842-59b168cd6e56"
   },
   "outputs": [
    {
     "data": {
      "text/html": [
       "<div>\n",
       "<style scoped>\n",
       "    .dataframe tbody tr th:only-of-type {\n",
       "        vertical-align: middle;\n",
       "    }\n",
       "\n",
       "    .dataframe tbody tr th {\n",
       "        vertical-align: top;\n",
       "    }\n",
       "\n",
       "    .dataframe thead th {\n",
       "        text-align: right;\n",
       "    }\n",
       "</style>\n",
       "<table border=\"1\" class=\"dataframe\">\n",
       "  <thead>\n",
       "    <tr style=\"text-align: right;\">\n",
       "      <th></th>\n",
       "      <th>mean</th>\n",
       "      <th>diff</th>\n",
       "      <th>reliability</th>\n",
       "    </tr>\n",
       "    <tr>\n",
       "      <th>what_is_your_current_occupation</th>\n",
       "      <th></th>\n",
       "      <th></th>\n",
       "      <th></th>\n",
       "    </tr>\n",
       "  </thead>\n",
       "  <tbody>\n",
       "    <tr>\n",
       "      <th>Businessman</th>\n",
       "      <td>0.400000</td>\n",
       "      <td>-0.014000</td>\n",
       "      <td>1.036269</td>\n",
       "    </tr>\n",
       "    <tr>\n",
       "      <th>Housewife</th>\n",
       "      <td>1.000000</td>\n",
       "      <td>-0.614000</td>\n",
       "      <td>2.590674</td>\n",
       "    </tr>\n",
       "    <tr>\n",
       "      <th>Other</th>\n",
       "      <td>0.147387</td>\n",
       "      <td>0.238613</td>\n",
       "      <td>0.381832</td>\n",
       "    </tr>\n",
       "    <tr>\n",
       "      <th>Student</th>\n",
       "      <td>0.377778</td>\n",
       "      <td>0.008222</td>\n",
       "      <td>0.978699</td>\n",
       "    </tr>\n",
       "    <tr>\n",
       "      <th>Unemployed</th>\n",
       "      <td>0.431573</td>\n",
       "      <td>-0.045573</td>\n",
       "      <td>1.118065</td>\n",
       "    </tr>\n",
       "    <tr>\n",
       "      <th>Working Professional</th>\n",
       "      <td>0.924107</td>\n",
       "      <td>-0.538107</td>\n",
       "      <td>2.394060</td>\n",
       "    </tr>\n",
       "  </tbody>\n",
       "</table>\n",
       "</div>"
      ],
      "text/plain": [
       "                                     mean      diff  reliability\n",
       "what_is_your_current_occupation                                 \n",
       "Businessman                      0.400000 -0.014000     1.036269\n",
       "Housewife                        1.000000 -0.614000     2.590674\n",
       "Other                            0.147387  0.238613     0.381832\n",
       "Student                          0.377778  0.008222     0.978699\n",
       "Unemployed                       0.431573 -0.045573     1.118065\n",
       "Working Professional             0.924107 -0.538107     2.394060"
      ]
     },
     "execution_count": 99,
     "metadata": {},
     "output_type": "execute_result"
    }
   ],
   "source": [
    "grouped_train = train_X.groupby('what_is_your_current_occupation').converted.agg(['mean'])\n",
    "grouped_train['diff'] = global_mean - grouped_train['mean']\n",
    "grouped_train['reliability'] = grouped_train['mean']/global_mean\n",
    "grouped_train"
   ]
  },
  {
   "cell_type": "markdown",
   "id": "0dd66148",
   "metadata": {
    "id": "0dd66148"
   },
   "source": [
    "Housewife and Working Professional categories are most likely to be converted. There are sharp differences between values."
   ]
  },
  {
   "cell_type": "code",
   "execution_count": 100,
   "id": "6dfc51e2",
   "metadata": {
    "id": "6dfc51e2"
   },
   "outputs": [],
   "source": [
    "def converted_stat(column):\n",
    "    data_group = train_X.groupby(column).converted.agg(['mean'])\n",
    "    data_group['diff'] = data_group['mean'] - global_mean\n",
    "    data_group['reliability'] = data_group['mean']/global_mean\n",
    "    return data_group"
   ]
  },
  {
   "cell_type": "code",
   "execution_count": 102,
   "id": "e43dc44d",
   "metadata": {
    "id": "e43dc44d",
    "outputId": "5ee4dae3-3a58-484c-9007-0a9413873d1f"
   },
   "outputs": [
    {
     "data": {
      "text/html": [
       "<div>\n",
       "<style scoped>\n",
       "    .dataframe tbody tr th:only-of-type {\n",
       "        vertical-align: middle;\n",
       "    }\n",
       "\n",
       "    .dataframe tbody tr th {\n",
       "        vertical-align: top;\n",
       "    }\n",
       "\n",
       "    .dataframe thead th {\n",
       "        text-align: right;\n",
       "    }\n",
       "</style>\n",
       "<table border=\"1\" class=\"dataframe\">\n",
       "  <thead>\n",
       "    <tr style=\"text-align: right;\">\n",
       "      <th></th>\n",
       "      <th>mean</th>\n",
       "      <th>diff</th>\n",
       "      <th>reliability</th>\n",
       "    </tr>\n",
       "    <tr>\n",
       "      <th>what_matters_most_to_you_in_choosing_a_course</th>\n",
       "      <th></th>\n",
       "      <th></th>\n",
       "      <th></th>\n",
       "    </tr>\n",
       "  </thead>\n",
       "  <tbody>\n",
       "    <tr>\n",
       "      <th>Better Career Prospects</th>\n",
       "      <td>0.485245</td>\n",
       "      <td>0.099245</td>\n",
       "      <td>1.257112</td>\n",
       "    </tr>\n",
       "    <tr>\n",
       "      <th>Other</th>\n",
       "      <td>0.143191</td>\n",
       "      <td>-0.242809</td>\n",
       "      <td>0.370961</td>\n",
       "    </tr>\n",
       "  </tbody>\n",
       "</table>\n",
       "</div>"
      ],
      "text/plain": [
       "                                                   mean      diff  reliability\n",
       "what_matters_most_to_you_in_choosing_a_course                                 \n",
       "Better Career Prospects                        0.485245  0.099245     1.257112\n",
       "Other                                          0.143191 -0.242809     0.370961"
      ]
     },
     "execution_count": 102,
     "metadata": {},
     "output_type": "execute_result"
    }
   ],
   "source": [
    "converted_stat('what_matters_most_to_you_in_choosing_a_course')"
   ]
  },
  {
   "cell_type": "code",
   "execution_count": 103,
   "id": "c057690b",
   "metadata": {
    "id": "c057690b",
    "outputId": "f7f797bd-d381-4392-965b-fa196f245b7e"
   },
   "outputs": [
    {
     "data": {
      "text/html": [
       "<div>\n",
       "<style scoped>\n",
       "    .dataframe tbody tr th:only-of-type {\n",
       "        vertical-align: middle;\n",
       "    }\n",
       "\n",
       "    .dataframe tbody tr th {\n",
       "        vertical-align: top;\n",
       "    }\n",
       "\n",
       "    .dataframe thead th {\n",
       "        text-align: right;\n",
       "    }\n",
       "</style>\n",
       "<table border=\"1\" class=\"dataframe\">\n",
       "  <thead>\n",
       "    <tr style=\"text-align: right;\">\n",
       "      <th></th>\n",
       "      <th>mean</th>\n",
       "      <th>diff</th>\n",
       "      <th>reliability</th>\n",
       "    </tr>\n",
       "    <tr>\n",
       "      <th>a_free_copy_of_mastering_the_interview</th>\n",
       "      <th></th>\n",
       "      <th></th>\n",
       "      <th></th>\n",
       "    </tr>\n",
       "  </thead>\n",
       "  <tbody>\n",
       "    <tr>\n",
       "      <th>No</th>\n",
       "      <td>0.399409</td>\n",
       "      <td>0.013409</td>\n",
       "      <td>1.034738</td>\n",
       "    </tr>\n",
       "    <tr>\n",
       "      <th>Yes</th>\n",
       "      <td>0.357451</td>\n",
       "      <td>-0.028549</td>\n",
       "      <td>0.926040</td>\n",
       "    </tr>\n",
       "  </tbody>\n",
       "</table>\n",
       "</div>"
      ],
      "text/plain": [
       "                                            mean      diff  reliability\n",
       "a_free_copy_of_mastering_the_interview                                 \n",
       "No                                      0.399409  0.013409     1.034738\n",
       "Yes                                     0.357451 -0.028549     0.926040"
      ]
     },
     "execution_count": 103,
     "metadata": {},
     "output_type": "execute_result"
    }
   ],
   "source": [
    "converted_stat('a_free_copy_of_mastering_the_interview')"
   ]
  },
  {
   "cell_type": "code",
   "execution_count": 104,
   "id": "097ff98a",
   "metadata": {
    "id": "097ff98a",
    "outputId": "d754beff-4be7-40e8-c3e2-e657b9fd95ac"
   },
   "outputs": [
    {
     "data": {
      "text/html": [
       "<div>\n",
       "<style scoped>\n",
       "    .dataframe tbody tr th:only-of-type {\n",
       "        vertical-align: middle;\n",
       "    }\n",
       "\n",
       "    .dataframe tbody tr th {\n",
       "        vertical-align: top;\n",
       "    }\n",
       "\n",
       "    .dataframe thead th {\n",
       "        text-align: right;\n",
       "    }\n",
       "</style>\n",
       "<table border=\"1\" class=\"dataframe\">\n",
       "  <thead>\n",
       "    <tr style=\"text-align: right;\">\n",
       "      <th></th>\n",
       "      <th>mean</th>\n",
       "      <th>diff</th>\n",
       "      <th>reliability</th>\n",
       "    </tr>\n",
       "    <tr>\n",
       "      <th>city</th>\n",
       "      <th></th>\n",
       "      <th></th>\n",
       "      <th></th>\n",
       "    </tr>\n",
       "  </thead>\n",
       "  <tbody>\n",
       "    <tr>\n",
       "      <th>Mumbai</th>\n",
       "      <td>0.407927</td>\n",
       "      <td>0.021927</td>\n",
       "      <td>1.056804</td>\n",
       "    </tr>\n",
       "    <tr>\n",
       "      <th>Other Cities</th>\n",
       "      <td>0.389522</td>\n",
       "      <td>0.003522</td>\n",
       "      <td>1.009123</td>\n",
       "    </tr>\n",
       "    <tr>\n",
       "      <th>Other Cities of Maharashtra</th>\n",
       "      <td>0.427119</td>\n",
       "      <td>0.041119</td>\n",
       "      <td>1.106525</td>\n",
       "    </tr>\n",
       "    <tr>\n",
       "      <th>Other Metro Cities</th>\n",
       "      <td>0.410359</td>\n",
       "      <td>0.024359</td>\n",
       "      <td>1.063105</td>\n",
       "    </tr>\n",
       "    <tr>\n",
       "      <th>Select</th>\n",
       "      <td>0.343924</td>\n",
       "      <td>-0.042076</td>\n",
       "      <td>0.890996</td>\n",
       "    </tr>\n",
       "    <tr>\n",
       "      <th>Thane &amp; Outskirts</th>\n",
       "      <td>0.457906</td>\n",
       "      <td>0.071906</td>\n",
       "      <td>1.186284</td>\n",
       "    </tr>\n",
       "    <tr>\n",
       "      <th>Tier II Cities</th>\n",
       "      <td>0.372093</td>\n",
       "      <td>-0.013907</td>\n",
       "      <td>0.963972</td>\n",
       "    </tr>\n",
       "  </tbody>\n",
       "</table>\n",
       "</div>"
      ],
      "text/plain": [
       "                                 mean      diff  reliability\n",
       "city                                                        \n",
       "Mumbai                       0.407927  0.021927     1.056804\n",
       "Other Cities                 0.389522  0.003522     1.009123\n",
       "Other Cities of Maharashtra  0.427119  0.041119     1.106525\n",
       "Other Metro Cities           0.410359  0.024359     1.063105\n",
       "Select                       0.343924 -0.042076     0.890996\n",
       "Thane & Outskirts            0.457906  0.071906     1.186284\n",
       "Tier II Cities               0.372093 -0.013907     0.963972"
      ]
     },
     "execution_count": 104,
     "metadata": {},
     "output_type": "execute_result"
    }
   ],
   "source": [
    "converted_stat('city')"
   ]
  },
  {
   "cell_type": "code",
   "execution_count": 105,
   "id": "06219047",
   "metadata": {
    "id": "06219047",
    "outputId": "c3ce3c34-36b8-441d-f9c9-dbbbea40e68f"
   },
   "outputs": [
    {
     "data": {
      "text/html": [
       "<div>\n",
       "<style scoped>\n",
       "    .dataframe tbody tr th:only-of-type {\n",
       "        vertical-align: middle;\n",
       "    }\n",
       "\n",
       "    .dataframe tbody tr th {\n",
       "        vertical-align: top;\n",
       "    }\n",
       "\n",
       "    .dataframe thead th {\n",
       "        text-align: right;\n",
       "    }\n",
       "</style>\n",
       "<table border=\"1\" class=\"dataframe\">\n",
       "  <thead>\n",
       "    <tr style=\"text-align: right;\">\n",
       "      <th></th>\n",
       "      <th>mean</th>\n",
       "      <th>diff</th>\n",
       "      <th>reliability</th>\n",
       "    </tr>\n",
       "    <tr>\n",
       "      <th>do_not_email</th>\n",
       "      <th></th>\n",
       "      <th></th>\n",
       "      <th></th>\n",
       "    </tr>\n",
       "  </thead>\n",
       "  <tbody>\n",
       "    <tr>\n",
       "      <th>No</th>\n",
       "      <td>0.405112</td>\n",
       "      <td>0.019112</td>\n",
       "      <td>1.049513</td>\n",
       "    </tr>\n",
       "    <tr>\n",
       "      <th>Yes</th>\n",
       "      <td>0.170526</td>\n",
       "      <td>-0.215474</td>\n",
       "      <td>0.441778</td>\n",
       "    </tr>\n",
       "  </tbody>\n",
       "</table>\n",
       "</div>"
      ],
      "text/plain": [
       "                  mean      diff  reliability\n",
       "do_not_email                                 \n",
       "No            0.405112  0.019112     1.049513\n",
       "Yes           0.170526 -0.215474     0.441778"
      ]
     },
     "execution_count": 105,
     "metadata": {},
     "output_type": "execute_result"
    }
   ],
   "source": [
    "converted_stat('do_not_email')"
   ]
  },
  {
   "cell_type": "code",
   "execution_count": 106,
   "id": "6a292f07",
   "metadata": {
    "id": "6a292f07",
    "outputId": "4092c402-c4d7-402e-deb6-e08558305e42"
   },
   "outputs": [
    {
     "data": {
      "text/html": [
       "<div>\n",
       "<style scoped>\n",
       "    .dataframe tbody tr th:only-of-type {\n",
       "        vertical-align: middle;\n",
       "    }\n",
       "\n",
       "    .dataframe tbody tr th {\n",
       "        vertical-align: top;\n",
       "    }\n",
       "\n",
       "    .dataframe thead th {\n",
       "        text-align: right;\n",
       "    }\n",
       "</style>\n",
       "<table border=\"1\" class=\"dataframe\">\n",
       "  <thead>\n",
       "    <tr style=\"text-align: right;\">\n",
       "      <th></th>\n",
       "      <th>mean</th>\n",
       "      <th>diff</th>\n",
       "      <th>reliability</th>\n",
       "    </tr>\n",
       "    <tr>\n",
       "      <th>lead_origin</th>\n",
       "      <th></th>\n",
       "      <th></th>\n",
       "      <th></th>\n",
       "    </tr>\n",
       "  </thead>\n",
       "  <tbody>\n",
       "    <tr>\n",
       "      <th>API</th>\n",
       "      <td>0.308132</td>\n",
       "      <td>-0.077868</td>\n",
       "      <td>0.798269</td>\n",
       "    </tr>\n",
       "    <tr>\n",
       "      <th>Landing Page Submission</th>\n",
       "      <td>0.363375</td>\n",
       "      <td>-0.022625</td>\n",
       "      <td>0.941386</td>\n",
       "    </tr>\n",
       "    <tr>\n",
       "      <th>Lead Add Form</th>\n",
       "      <td>0.924211</td>\n",
       "      <td>0.538211</td>\n",
       "      <td>2.394328</td>\n",
       "    </tr>\n",
       "    <tr>\n",
       "      <th>Lead Import</th>\n",
       "      <td>0.181818</td>\n",
       "      <td>-0.204182</td>\n",
       "      <td>0.471032</td>\n",
       "    </tr>\n",
       "    <tr>\n",
       "      <th>Quick Add Form</th>\n",
       "      <td>1.000000</td>\n",
       "      <td>0.614000</td>\n",
       "      <td>2.590674</td>\n",
       "    </tr>\n",
       "  </tbody>\n",
       "</table>\n",
       "</div>"
      ],
      "text/plain": [
       "                             mean      diff  reliability\n",
       "lead_origin                                             \n",
       "API                      0.308132 -0.077868     0.798269\n",
       "Landing Page Submission  0.363375 -0.022625     0.941386\n",
       "Lead Add Form            0.924211  0.538211     2.394328\n",
       "Lead Import              0.181818 -0.204182     0.471032\n",
       "Quick Add Form           1.000000  0.614000     2.590674"
      ]
     },
     "execution_count": 106,
     "metadata": {},
     "output_type": "execute_result"
    }
   ],
   "source": [
    "converted_stat('lead_origin')"
   ]
  },
  {
   "cell_type": "markdown",
   "id": "b74e8a06",
   "metadata": {
    "id": "b74e8a06"
   },
   "source": [
    "***Dependency between categorical variables and target variable***"
   ]
  },
  {
   "cell_type": "code",
   "execution_count": 107,
   "id": "33cb6b1f",
   "metadata": {
    "id": "33cb6b1f",
    "outputId": "bcf45ecd-9af8-454b-ac32-5f17026aa0eb"
   },
   "outputs": [
    {
     "data": {
      "text/html": [
       "<div>\n",
       "<style scoped>\n",
       "    .dataframe tbody tr th:only-of-type {\n",
       "        vertical-align: middle;\n",
       "    }\n",
       "\n",
       "    .dataframe tbody tr th {\n",
       "        vertical-align: top;\n",
       "    }\n",
       "\n",
       "    .dataframe thead th {\n",
       "        text-align: right;\n",
       "    }\n",
       "</style>\n",
       "<table border=\"1\" class=\"dataframe\">\n",
       "  <thead>\n",
       "    <tr style=\"text-align: right;\">\n",
       "      <th></th>\n",
       "      <th>Mi</th>\n",
       "    </tr>\n",
       "  </thead>\n",
       "  <tbody>\n",
       "    <tr>\n",
       "      <th>what_is_your_current_occupation</th>\n",
       "      <td>0.095197</td>\n",
       "    </tr>\n",
       "    <tr>\n",
       "      <th>last_activity</th>\n",
       "      <td>0.088512</td>\n",
       "    </tr>\n",
       "    <tr>\n",
       "      <th>lead_profile</th>\n",
       "      <td>0.082869</td>\n",
       "    </tr>\n",
       "    <tr>\n",
       "      <th>last_notable_activity</th>\n",
       "      <td>0.073860</td>\n",
       "    </tr>\n",
       "    <tr>\n",
       "      <th>lead_source</th>\n",
       "      <td>0.061560</td>\n",
       "    </tr>\n",
       "    <tr>\n",
       "      <th>what_matters_most_to_you_in_choosing_a_course</th>\n",
       "      <td>0.060058</td>\n",
       "    </tr>\n",
       "    <tr>\n",
       "      <th>lead_origin</th>\n",
       "      <td>0.056251</td>\n",
       "    </tr>\n",
       "    <tr>\n",
       "      <th>specialization</th>\n",
       "      <td>0.014624</td>\n",
       "    </tr>\n",
       "    <tr>\n",
       "      <th>do_not_email</th>\n",
       "      <td>0.010327</td>\n",
       "    </tr>\n",
       "    <tr>\n",
       "      <th>city</th>\n",
       "      <td>0.003002</td>\n",
       "    </tr>\n",
       "    <tr>\n",
       "      <th>country</th>\n",
       "      <td>0.002936</td>\n",
       "    </tr>\n",
       "    <tr>\n",
       "      <th>how_did_you_hear_about_x_education</th>\n",
       "      <td>0.001446</td>\n",
       "    </tr>\n",
       "    <tr>\n",
       "      <th>a_free_copy_of_mastering_the_interview</th>\n",
       "      <td>0.000797</td>\n",
       "    </tr>\n",
       "    <tr>\n",
       "      <th>do_not_call</th>\n",
       "      <td>0.000206</td>\n",
       "    </tr>\n",
       "    <tr>\n",
       "      <th>through_recommendations</th>\n",
       "      <td>0.000168</td>\n",
       "    </tr>\n",
       "    <tr>\n",
       "      <th>newspaper</th>\n",
       "      <td>0.000053</td>\n",
       "    </tr>\n",
       "    <tr>\n",
       "      <th>x_education_forums</th>\n",
       "      <td>0.000053</td>\n",
       "    </tr>\n",
       "    <tr>\n",
       "      <th>digital_advertisement</th>\n",
       "      <td>0.000018</td>\n",
       "    </tr>\n",
       "    <tr>\n",
       "      <th>newspaper_article</th>\n",
       "      <td>0.000006</td>\n",
       "    </tr>\n",
       "    <tr>\n",
       "      <th>search</th>\n",
       "      <td>0.000003</td>\n",
       "    </tr>\n",
       "    <tr>\n",
       "      <th>receive_more_updates_about_our_courses</th>\n",
       "      <td>0.000000</td>\n",
       "    </tr>\n",
       "    <tr>\n",
       "      <th>update_me_on_supply_chain_content</th>\n",
       "      <td>0.000000</td>\n",
       "    </tr>\n",
       "    <tr>\n",
       "      <th>get_updates_on_dm_content</th>\n",
       "      <td>0.000000</td>\n",
       "    </tr>\n",
       "    <tr>\n",
       "      <th>magazine</th>\n",
       "      <td>0.000000</td>\n",
       "    </tr>\n",
       "    <tr>\n",
       "      <th>i_agree_to_pay_the_amount_through_cheque</th>\n",
       "      <td>0.000000</td>\n",
       "    </tr>\n",
       "  </tbody>\n",
       "</table>\n",
       "</div>"
      ],
      "text/plain": [
       "                                                     Mi\n",
       "what_is_your_current_occupation                0.095197\n",
       "last_activity                                  0.088512\n",
       "lead_profile                                   0.082869\n",
       "last_notable_activity                          0.073860\n",
       "lead_source                                    0.061560\n",
       "what_matters_most_to_you_in_choosing_a_course  0.060058\n",
       "lead_origin                                    0.056251\n",
       "specialization                                 0.014624\n",
       "do_not_email                                   0.010327\n",
       "city                                           0.003002\n",
       "country                                        0.002936\n",
       "how_did_you_hear_about_x_education             0.001446\n",
       "a_free_copy_of_mastering_the_interview         0.000797\n",
       "do_not_call                                    0.000206\n",
       "through_recommendations                        0.000168\n",
       "newspaper                                      0.000053\n",
       "x_education_forums                             0.000053\n",
       "digital_advertisement                          0.000018\n",
       "newspaper_article                              0.000006\n",
       "search                                         0.000003\n",
       "receive_more_updates_about_our_courses         0.000000\n",
       "update_me_on_supply_chain_content              0.000000\n",
       "get_updates_on_dm_content                      0.000000\n",
       "magazine                                       0.000000\n",
       "i_agree_to_pay_the_amount_through_cheque       0.000000"
      ]
     },
     "execution_count": 107,
     "metadata": {},
     "output_type": "execute_result"
    }
   ],
   "source": [
    "from sklearn.metrics import mutual_info_score\n",
    "\n",
    "def calculate_mi(series):\n",
    "    return mutual_info_score(series, leads['converted'])\n",
    "\n",
    "data_mi = leads[categorical].apply(calculate_mi)\n",
    "data_mi = data_mi.sort_values(ascending=False).to_frame(name='Mi')\n",
    "data_mi"
   ]
  },
  {
   "cell_type": "markdown",
   "id": "303cd537",
   "metadata": {
    "id": "303cd537"
   },
   "source": [
    "***Correcaltion Coefficient***"
   ]
  },
  {
   "cell_type": "code",
   "execution_count": 108,
   "id": "fc778ce9",
   "metadata": {
    "id": "fc778ce9",
    "outputId": "72ae4d7f-db4f-42b7-8a74-e9c1157d67e1"
   },
   "outputs": [
    {
     "data": {
      "text/html": [
       "<div>\n",
       "<style scoped>\n",
       "    .dataframe tbody tr th:only-of-type {\n",
       "        vertical-align: middle;\n",
       "    }\n",
       "\n",
       "    .dataframe tbody tr th {\n",
       "        vertical-align: top;\n",
       "    }\n",
       "\n",
       "    .dataframe thead th {\n",
       "        text-align: right;\n",
       "    }\n",
       "</style>\n",
       "<table border=\"1\" class=\"dataframe\">\n",
       "  <thead>\n",
       "    <tr style=\"text-align: right;\">\n",
       "      <th></th>\n",
       "      <th>Correlations</th>\n",
       "    </tr>\n",
       "  </thead>\n",
       "  <tbody>\n",
       "    <tr>\n",
       "      <th>totalvisits</th>\n",
       "      <td>0.029119</td>\n",
       "    </tr>\n",
       "    <tr>\n",
       "      <th>total_time_spent_on_website</th>\n",
       "      <td>0.362483</td>\n",
       "    </tr>\n",
       "    <tr>\n",
       "      <th>page_views_per_visit</th>\n",
       "      <td>-0.005068</td>\n",
       "    </tr>\n",
       "  </tbody>\n",
       "</table>\n",
       "</div>"
      ],
      "text/plain": [
       "                             Correlations\n",
       "totalvisits                      0.029119\n",
       "total_time_spent_on_website      0.362483\n",
       "page_views_per_visit            -0.005068"
      ]
     },
     "execution_count": 108,
     "metadata": {},
     "output_type": "execute_result"
    }
   ],
   "source": [
    "leads[numerical].corrwith(leads['converted']).to_frame('Correlations')"
   ]
  },
  {
   "cell_type": "markdown",
   "id": "4fd2721b",
   "metadata": {
    "id": "4fd2721b"
   },
   "source": [
    "Totalvisits and total_time_spent_on_website has positive correlation, the more leads visit website and the more time they spent on website, the more leads are converted. But page_views_per_visit\thas negative correlation, the more number of pages on the website are viewed during the visits, the less they are converted."
   ]
  },
  {
   "cell_type": "markdown",
   "id": "34449b8d",
   "metadata": {
    "id": "34449b8d"
   },
   "source": [
    "We choose categorical variables with me score more than 0.01."
   ]
  },
  {
   "cell_type": "markdown",
   "id": "83baf0e7",
   "metadata": {
    "id": "83baf0e7"
   },
   "source": [
    "***Vectorizing variables***"
   ]
  },
  {
   "cell_type": "code",
   "execution_count": 109,
   "id": "3a81f28b",
   "metadata": {
    "id": "3a81f28b"
   },
   "outputs": [],
   "source": [
    "cat = list(data_mi.iloc[0:9,:].index)"
   ]
  },
  {
   "cell_type": "code",
   "execution_count": 110,
   "id": "5a94b1f2",
   "metadata": {
    "id": "5a94b1f2",
    "outputId": "ec53cfd3-a961-4bc5-99d4-b4bedc84ddb4"
   },
   "outputs": [
    {
     "data": {
      "text/plain": [
       "['what_is_your_current_occupation',\n",
       " 'last_activity',\n",
       " 'lead_profile',\n",
       " 'last_notable_activity',\n",
       " 'lead_source',\n",
       " 'what_matters_most_to_you_in_choosing_a_course',\n",
       " 'lead_origin',\n",
       " 'specialization',\n",
       " 'do_not_email']"
      ]
     },
     "execution_count": 110,
     "metadata": {},
     "output_type": "execute_result"
    }
   ],
   "source": [
    "cat"
   ]
  },
  {
   "cell_type": "code",
   "execution_count": 111,
   "id": "8a1470b4",
   "metadata": {
    "id": "8a1470b4"
   },
   "outputs": [],
   "source": [
    "train_dict = train_X[cat+numerical].to_dict(orient='rows')"
   ]
  },
  {
   "cell_type": "code",
   "execution_count": 112,
   "id": "ab30ce4a",
   "metadata": {
    "id": "ab30ce4a",
    "outputId": "fabec355-dd37-405e-8677-692da489d703"
   },
   "outputs": [
    {
     "data": {
      "text/plain": [
       "{'what_is_your_current_occupation': 'Unemployed',\n",
       " 'last_activity': 'SMS Sent',\n",
       " 'lead_profile': 'Select',\n",
       " 'last_notable_activity': 'SMS Sent',\n",
       " 'lead_source': 'Direct Traffic',\n",
       " 'what_matters_most_to_you_in_choosing_a_course': 'Better Career Prospects',\n",
       " 'lead_origin': 'Landing Page Submission',\n",
       " 'specialization': 'Supply Chain Management',\n",
       " 'do_not_email': 'No',\n",
       " 'totalvisits': 4.0,\n",
       " 'total_time_spent_on_website': 1376,\n",
       " 'page_views_per_visit': 4.0}"
      ]
     },
     "execution_count": 112,
     "metadata": {},
     "output_type": "execute_result"
    }
   ],
   "source": [
    "train_dict[0]"
   ]
  },
  {
   "cell_type": "markdown",
   "id": "4234650b",
   "metadata": {
    "id": "4234650b"
   },
   "source": [
    "Column names in data frame is key and rows are values."
   ]
  },
  {
   "cell_type": "code",
   "execution_count": 113,
   "id": "85879478",
   "metadata": {
    "id": "85879478",
    "outputId": "5f1d37b4-aeba-4fe5-939f-f75fbf4b5397"
   },
   "outputs": [],
   "source": [
    "from sklearn.feature_extraction import DictVectorizer\n",
    "\n",
    "dv = DictVectorizer(sparse=False)\n",
    "X_train = dv.fit_transform(train_dict)"
   ]
  },
  {
   "cell_type": "code",
   "execution_count": 114,
   "id": "e974b195",
   "metadata": {
    "id": "e974b195",
    "outputId": "382e854d-31fd-4bb3-fce0-1fc2bbc7c9ea"
   },
   "outputs": [
    {
     "data": {
      "text/plain": [
       "94"
      ]
     },
     "execution_count": 114,
     "metadata": {},
     "output_type": "execute_result"
    }
   ],
   "source": [
    "len(X_train[0])"
   ]
  },
  {
   "cell_type": "markdown",
   "id": "8d06a70a",
   "metadata": {
    "id": "8d06a70a"
   },
   "source": [
    "We vectorized rows into array, to see the column names we can use get_feature_names() funtion."
   ]
  },
  {
   "cell_type": "code",
   "execution_count": 115,
   "id": "b627ad58",
   "metadata": {
    "id": "b627ad58",
    "outputId": "6a0bbf84-0821-40b1-f920-d58aef9c1901"
   },
   "outputs": [
    {
     "data": {
      "text/plain": [
       "['do_not_email=No',\n",
       " 'do_not_email=Yes',\n",
       " 'last_activity=Approached upfront',\n",
       " 'last_activity=Converted to Lead',\n",
       " 'last_activity=Email Bounced',\n",
       " 'last_activity=Email Link Clicked',\n",
       " 'last_activity=Email Marked Spam',\n",
       " 'last_activity=Email Opened',\n",
       " 'last_activity=Email Received',\n",
       " 'last_activity=Form Submitted on Website',\n",
       " 'last_activity=Had a Phone Conversation',\n",
       " 'last_activity=Olark Chat Conversation',\n",
       " 'last_activity=Other',\n",
       " 'last_activity=Page Visited on Website',\n",
       " 'last_activity=Resubscribed to emails',\n",
       " 'last_activity=SMS Sent',\n",
       " 'last_activity=Unreachable',\n",
       " 'last_activity=Unsubscribed',\n",
       " 'last_activity=View in browser link Clicked',\n",
       " 'last_notable_activity=Email Bounced',\n",
       " 'last_notable_activity=Email Link Clicked',\n",
       " 'last_notable_activity=Email Marked Spam',\n",
       " 'last_notable_activity=Email Opened',\n",
       " 'last_notable_activity=Email Received',\n",
       " 'last_notable_activity=Form Submitted on Website',\n",
       " 'last_notable_activity=Had a Phone Conversation',\n",
       " 'last_notable_activity=Modified',\n",
       " 'last_notable_activity=Olark Chat Conversation',\n",
       " 'last_notable_activity=Page Visited on Website',\n",
       " 'last_notable_activity=Resubscribed to emails',\n",
       " 'last_notable_activity=SMS Sent',\n",
       " 'last_notable_activity=Unreachable',\n",
       " 'last_notable_activity=Unsubscribed',\n",
       " 'last_notable_activity=View in browser link Clicked',\n",
       " 'lead_origin=API',\n",
       " 'lead_origin=Landing Page Submission',\n",
       " 'lead_origin=Lead Add Form',\n",
       " 'lead_origin=Lead Import',\n",
       " 'lead_origin=Quick Add Form',\n",
       " 'lead_profile=Dual Specialization Student',\n",
       " 'lead_profile=Lateral Student',\n",
       " 'lead_profile=Other Leads',\n",
       " 'lead_profile=Potential Lead',\n",
       " 'lead_profile=Select',\n",
       " 'lead_profile=Student of SomeSchool',\n",
       " 'lead_source=Click2call',\n",
       " 'lead_source=Direct Traffic',\n",
       " 'lead_source=Facebook',\n",
       " 'lead_source=Google',\n",
       " 'lead_source=Live Chat',\n",
       " 'lead_source=NC_EDM',\n",
       " 'lead_source=Olark Chat',\n",
       " 'lead_source=Organic Search',\n",
       " 'lead_source=Pay per Click Ads',\n",
       " 'lead_source=Press_Release',\n",
       " 'lead_source=Reference',\n",
       " 'lead_source=Referral Sites',\n",
       " 'lead_source=Social Media',\n",
       " 'lead_source=WeLearn',\n",
       " 'lead_source=Welingak Website',\n",
       " 'lead_source=bing',\n",
       " 'lead_source=blog',\n",
       " 'lead_source=welearnblog_Home',\n",
       " 'lead_source=youtubechannel',\n",
       " 'page_views_per_visit',\n",
       " 'specialization=Banking, Investment And Insurance',\n",
       " 'specialization=Business Administration',\n",
       " 'specialization=E-Business',\n",
       " 'specialization=E-COMMERCE',\n",
       " 'specialization=Finance Management',\n",
       " 'specialization=Healthcare Management',\n",
       " 'specialization=Hospitality Management',\n",
       " 'specialization=Human Resource Management',\n",
       " 'specialization=IT Projects Management',\n",
       " 'specialization=International Business',\n",
       " 'specialization=Marketing Management',\n",
       " 'specialization=Media and Advertising',\n",
       " 'specialization=Operations Management',\n",
       " 'specialization=Retail Management',\n",
       " 'specialization=Rural and Agribusiness',\n",
       " 'specialization=Select',\n",
       " 'specialization=Services Excellence',\n",
       " 'specialization=Supply Chain Management',\n",
       " 'specialization=Travel and Tourism',\n",
       " 'total_time_spent_on_website',\n",
       " 'totalvisits',\n",
       " 'what_is_your_current_occupation=Businessman',\n",
       " 'what_is_your_current_occupation=Housewife',\n",
       " 'what_is_your_current_occupation=Other',\n",
       " 'what_is_your_current_occupation=Student',\n",
       " 'what_is_your_current_occupation=Unemployed',\n",
       " 'what_is_your_current_occupation=Working Professional',\n",
       " 'what_matters_most_to_you_in_choosing_a_course=Better Career Prospects',\n",
       " 'what_matters_most_to_you_in_choosing_a_course=Other']"
      ]
     },
     "execution_count": 115,
     "metadata": {},
     "output_type": "execute_result"
    }
   ],
   "source": [
    "dv.get_feature_names()"
   ]
  },
  {
   "cell_type": "markdown",
   "id": "21819849",
   "metadata": {
    "id": "21819849"
   },
   "source": [
    "#### Logistic regression"
   ]
  },
  {
   "cell_type": "markdown",
   "id": "b6546373",
   "metadata": {
    "id": "b6546373"
   },
   "source": [
    "To predict leads will be converted or not we will use logistic regression model"
   ]
  },
  {
   "cell_type": "code",
   "execution_count": 116,
   "id": "8a0a7b49",
   "metadata": {
    "id": "8a0a7b49"
   },
   "outputs": [],
   "source": [
    "val_dict = val_X[cat+numerical].to_dict(orient='rows')\n",
    "X_val = dv.transform(val_dict)"
   ]
  },
  {
   "cell_type": "code",
   "execution_count": 117,
   "id": "68f6e023",
   "metadata": {
    "id": "68f6e023",
    "outputId": "6ec04f9b-c942-41dd-f8a9-bb35583d4563"
   },
   "outputs": [
    {
     "data": {
      "text/plain": [
       "94"
      ]
     },
     "execution_count": 117,
     "metadata": {},
     "output_type": "execute_result"
    }
   ],
   "source": [
    "len(X_val[0])"
   ]
  },
  {
   "cell_type": "code",
   "execution_count": 118,
   "id": "741da816",
   "metadata": {
    "id": "741da816",
    "outputId": "3ce8774a-ed75-4995-f5d0-d9444d309bd3"
   },
   "outputs": [
    {
     "data": {
      "text/plain": [
       "LogisticRegression(random_state=1, solver='liblinear')"
      ]
     },
     "execution_count": 118,
     "metadata": {},
     "output_type": "execute_result"
    }
   ],
   "source": [
    "from sklearn.linear_model import LogisticRegression\n",
    "\n",
    "model = LogisticRegression(solver='liblinear', random_state=1)\n",
    "model.fit(X_train, train_y)"
   ]
  },
  {
   "cell_type": "code",
   "execution_count": 119,
   "id": "9bb1e2f9",
   "metadata": {
    "id": "9bb1e2f9"
   },
   "outputs": [],
   "source": [
    "preds = model.predict_proba(X_val)[:,1]"
   ]
  },
  {
   "cell_type": "code",
   "execution_count": 120,
   "id": "60d4ea04",
   "metadata": {
    "id": "60d4ea04",
    "outputId": "22fd2888-c82b-4456-83b4-8f77eec33643"
   },
   "outputs": [
    {
     "data": {
      "text/plain": [
       "array([0.03061331, 0.46983784, 0.82177105, 0.03686225, 0.9489072 ])"
      ]
     },
     "execution_count": 120,
     "metadata": {},
     "output_type": "execute_result"
    }
   ],
   "source": [
    "preds[:5]"
   ]
  },
  {
   "cell_type": "code",
   "execution_count": 121,
   "id": "151ab80e",
   "metadata": {
    "id": "151ab80e"
   },
   "outputs": [],
   "source": [
    "pred = (preds>0.5).astype(int).reshape(-1,1)"
   ]
  },
  {
   "cell_type": "code",
   "execution_count": 122,
   "id": "2d2433e3",
   "metadata": {
    "id": "2d2433e3",
    "outputId": "3166166f-4a3d-4adb-9089-a897f4b922fa"
   },
   "outputs": [
    {
     "data": {
      "text/plain": [
       "array([[0],\n",
       "       [0],\n",
       "       [1],\n",
       "       [0],\n",
       "       [1]])"
      ]
     },
     "execution_count": 122,
     "metadata": {},
     "output_type": "execute_result"
    }
   ],
   "source": [
    "pred[:5]"
   ]
  },
  {
   "cell_type": "code",
   "execution_count": 123,
   "id": "c739f60b",
   "metadata": {
    "id": "c739f60b",
    "outputId": "ab01583b-67f8-4110-b248-96ed28bf5e9c"
   },
   "outputs": [
    {
     "data": {
      "text/plain": [
       "0.8248816768086545"
      ]
     },
     "execution_count": 123,
     "metadata": {},
     "output_type": "execute_result"
    }
   ],
   "source": [
    "(pred==val_y).mean()"
   ]
  },
  {
   "cell_type": "markdown",
   "id": "2a07010c",
   "metadata": {
    "id": "2a07010c"
   },
   "source": [
    "We see that 82% of prediction is right."
   ]
  },
  {
   "cell_type": "code",
   "execution_count": 124,
   "id": "50e8fd99",
   "metadata": {
    "id": "50e8fd99"
   },
   "outputs": [],
   "source": [
    "from sklearn.metrics import accuracy_score"
   ]
  },
  {
   "cell_type": "code",
   "execution_count": 125,
   "id": "ecd6fc59",
   "metadata": {
    "id": "ecd6fc59",
    "outputId": "cb64a732-1da9-40c9-9ebb-5c14e621c6c8"
   },
   "outputs": [
    {
     "name": "stdout",
     "output_type": "stream",
     "text": [
      "0.0 0.371\n",
      "0.1 0.671\n",
      "0.2 0.785\n",
      "0.3 0.822\n",
      "0.4 0.833\n",
      "0.5 0.825\n",
      "0.6 0.811\n",
      "0.7 0.795\n",
      "0.8 0.771\n",
      "0.9 0.728\n",
      "1.0 0.629\n"
     ]
    }
   ],
   "source": [
    "thresholds = np.linspace(0,1,11)\n",
    "\n",
    "for i in thresholds:\n",
    "    churn = preds>=i\n",
    "    acc = accuracy_score(val_y, churn)\n",
    "    print(f'{round(i,1)} {round(acc,3)}')"
   ]
  },
  {
   "cell_type": "code",
   "execution_count": 126,
   "id": "3c894be7",
   "metadata": {
    "id": "3c894be7"
   },
   "outputs": [],
   "source": [
    "thresholds = np.linspace(0,1,21)\n",
    "accs = []\n",
    "\n",
    "for i in thresholds:\n",
    "    churn = preds>=i\n",
    "    acc = accuracy_score(val_y, churn)\n",
    "    accs.append(acc)"
   ]
  },
  {
   "cell_type": "code",
   "execution_count": 127,
   "id": "ee00fdf5",
   "metadata": {
    "id": "ee00fdf5",
    "outputId": "bc0e2330-ac23-4336-da6e-dd968f602e1d"
   },
   "outputs": [
    {
     "data": {
      "image/png": "[encoded data removed]",
      "text/plain": [
       "<Figure size 432x288 with 1 Axes>"
      ]
     },
     "metadata": {
      "needs_background": "light"
     },
     "output_type": "display_data"
    }
   ],
   "source": [
    "plt.plot(thresholds, accs)\n",
    "plt.xlabel('Thresholds')\n",
    "plt.ylabel('Accuracy')\n",
    "plt.title('Threshold vs Accuracy')\n",
    "plt.show()"
   ]
  },
  {
   "cell_type": "markdown",
   "id": "85b2967c",
   "metadata": {
    "id": "85b2967c"
   },
   "source": [
    "#### Confusion Table"
   ]
  },
  {
   "cell_type": "code",
   "execution_count": 128,
   "id": "dc30950a",
   "metadata": {
    "id": "dc30950a"
   },
   "outputs": [],
   "source": [
    "t = 0.4\n",
    "\n",
    "predict_convert = (preds>=t).reshape(-1,1)\n",
    "predict_no_convert = (preds<t).reshape(-1,1)\n",
    "\n",
    "actual_convert = (val_y==1)\n",
    "actual_no_convert = (val_y==0)\n",
    "\n",
    "true_positive = (predict_convert & actual_convert).sum()\n",
    "true_negative = (predict_no_convert & actual_no_convert).sum()\n",
    "\n",
    "false_positive = (predict_convert & actual_no_convert).sum()\n",
    "false_negative = (predict_no_convert & actual_convert).sum()"
   ]
  },
  {
   "cell_type": "code",
   "execution_count": 129,
   "id": "13c538b5",
   "metadata": {
    "id": "13c538b5",
    "outputId": "b634d909-c33d-4c55-e8a1-a22e7ece05f2"
   },
   "outputs": [
    {
     "data": {
      "text/plain": [
       "array([[805, 126],\n",
       "       [121, 427]])"
      ]
     },
     "execution_count": 129,
     "metadata": {},
     "output_type": "execute_result"
    }
   ],
   "source": [
    "confussion_table = np.array([[true_negative, false_positive],[false_negative,true_positive]])\n",
    "confussion_table"
   ]
  },
  {
   "cell_type": "code",
   "execution_count": 130,
   "id": "9fb17e08",
   "metadata": {
    "id": "9fb17e08",
    "outputId": "a99f3eaf-4694-497a-bba7-5523f0a84d3c"
   },
   "outputs": [
    {
     "data": {
      "text/plain": [
       "array([[0.54428668, 0.0851927 ],\n",
       "       [0.08181204, 0.28870859]])"
      ]
     },
     "execution_count": 130,
     "metadata": {},
     "output_type": "execute_result"
    }
   ],
   "source": [
    "confussion_table/confussion_table.sum()"
   ]
  },
  {
   "cell_type": "markdown",
   "id": "eb0b0083",
   "metadata": {
    "id": "eb0b0083"
   },
   "source": [
    "#### Precision and recall"
   ]
  },
  {
   "cell_type": "code",
   "execution_count": 131,
   "id": "80912bf6",
   "metadata": {
    "id": "80912bf6",
    "outputId": "23e92598-419f-48bb-d92f-837d816811cf"
   },
   "outputs": [
    {
     "name": "stdout",
     "output_type": "stream",
     "text": [
      "Percent of correct predictions among leads predicted as converted is 77.0%\n"
     ]
    }
   ],
   "source": [
    "P = true_positive/(true_positive+false_positive)\n",
    "print(f'Percent of correct predictions among leads predicted as converted is {round(P,2)*100}%')"
   ]
  },
  {
   "cell_type": "code",
   "execution_count": 132,
   "id": "17546d80",
   "metadata": {
    "id": "17546d80",
    "outputId": "025eb49c-ec78-4ce6-9944-267142449808"
   },
   "outputs": [
    {
     "name": "stdout",
     "output_type": "stream",
     "text": [
      "Percent of correct predictions among actual converteds is 78.0%\n"
     ]
    }
   ],
   "source": [
    "R = true_positive/(true_positive+false_negative)\n",
    "print(f'Percent of correct predictions among actual converteds is {round(R,2)*100}%')"
   ]
  },
  {
   "cell_type": "markdown",
   "id": "169704f7",
   "metadata": {
    "id": "169704f7"
   },
   "source": [
    "#### True positive rate and false positive rate"
   ]
  },
  {
   "cell_type": "code",
   "execution_count": 133,
   "id": "23786a38",
   "metadata": {
    "id": "23786a38",
    "outputId": "67013809-410e-41d4-e032-28a4581acce3"
   },
   "outputs": [
    {
     "name": "stdout",
     "output_type": "stream",
     "text": [
      "The fraction of true positives among all positive examples: 0.7791970802919708\n",
      "The fraction of false positives among all negative examples: 0.13533834586466165\n"
     ]
    }
   ],
   "source": [
    "tpr = true_positive/(true_positive+false_negative)\n",
    "fpr = false_positive/(true_negative+false_positive)\n",
    "print(f'The fraction of true positives among all positive examples: {tpr}\\nThe fraction of false positives among all negative examples: {fpr}')"
   ]
  },
  {
   "cell_type": "markdown",
   "id": "d4c3773c",
   "metadata": {
    "id": "d4c3773c"
   },
   "source": [
    "The fraction of true positives among all converted leads: the larger TPR is, the better, The fraction of false positives among all non-converted leads: the smaller the FPR is, the better."
   ]
  },
  {
   "cell_type": "code",
   "execution_count": 134,
   "id": "2fab9605",
   "metadata": {
    "id": "2fab9605"
   },
   "outputs": [],
   "source": [
    "scores = []\n",
    "\n",
    "thresholds = np.linspace(0,1,101)\n",
    "\n",
    "for t in thresholds:\n",
    "    tp = ((preds>=t).reshape(-1,1)&(val_y==1)).sum()\n",
    "    fp = ((preds>=t).reshape(-1,1)&(val_y==0)).sum()\n",
    "    fn = ((preds<t).reshape(-1,1)&(val_y==1)).sum()\n",
    "    tn = ((preds<t).reshape(-1,1)&(val_y==0)).sum()\n",
    "    scores.append((t,tp,fp,fn,tn))"
   ]
  },
  {
   "cell_type": "code",
   "execution_count": 135,
   "id": "97fffcb4",
   "metadata": {
    "id": "97fffcb4",
    "outputId": "5d84bc9f-227b-423b-ea01-1f1671faed1e"
   },
   "outputs": [
    {
     "data": {
      "text/html": [
       "<div>\n",
       "<style scoped>\n",
       "    .dataframe tbody tr th:only-of-type {\n",
       "        vertical-align: middle;\n",
       "    }\n",
       "\n",
       "    .dataframe tbody tr th {\n",
       "        vertical-align: top;\n",
       "    }\n",
       "\n",
       "    .dataframe thead th {\n",
       "        text-align: right;\n",
       "    }\n",
       "</style>\n",
       "<table border=\"1\" class=\"dataframe\">\n",
       "  <thead>\n",
       "    <tr style=\"text-align: right;\">\n",
       "      <th></th>\n",
       "      <th>thresholds</th>\n",
       "      <th>tp</th>\n",
       "      <th>fp</th>\n",
       "      <th>fn</th>\n",
       "      <th>tn</th>\n",
       "    </tr>\n",
       "  </thead>\n",
       "  <tbody>\n",
       "    <tr>\n",
       "      <th>0</th>\n",
       "      <td>0.0</td>\n",
       "      <td>548</td>\n",
       "      <td>931</td>\n",
       "      <td>0</td>\n",
       "      <td>0</td>\n",
       "    </tr>\n",
       "    <tr>\n",
       "      <th>10</th>\n",
       "      <td>0.1</td>\n",
       "      <td>532</td>\n",
       "      <td>471</td>\n",
       "      <td>16</td>\n",
       "      <td>460</td>\n",
       "    </tr>\n",
       "    <tr>\n",
       "      <th>20</th>\n",
       "      <td>0.2</td>\n",
       "      <td>506</td>\n",
       "      <td>276</td>\n",
       "      <td>42</td>\n",
       "      <td>655</td>\n",
       "    </tr>\n",
       "    <tr>\n",
       "      <th>30</th>\n",
       "      <td>0.3</td>\n",
       "      <td>466</td>\n",
       "      <td>182</td>\n",
       "      <td>82</td>\n",
       "      <td>749</td>\n",
       "    </tr>\n",
       "    <tr>\n",
       "      <th>40</th>\n",
       "      <td>0.4</td>\n",
       "      <td>427</td>\n",
       "      <td>126</td>\n",
       "      <td>121</td>\n",
       "      <td>805</td>\n",
       "    </tr>\n",
       "    <tr>\n",
       "      <th>50</th>\n",
       "      <td>0.5</td>\n",
       "      <td>389</td>\n",
       "      <td>100</td>\n",
       "      <td>159</td>\n",
       "      <td>831</td>\n",
       "    </tr>\n",
       "    <tr>\n",
       "      <th>60</th>\n",
       "      <td>0.6</td>\n",
       "      <td>344</td>\n",
       "      <td>75</td>\n",
       "      <td>204</td>\n",
       "      <td>856</td>\n",
       "    </tr>\n",
       "    <tr>\n",
       "      <th>70</th>\n",
       "      <td>0.7</td>\n",
       "      <td>297</td>\n",
       "      <td>52</td>\n",
       "      <td>251</td>\n",
       "      <td>879</td>\n",
       "    </tr>\n",
       "    <tr>\n",
       "      <th>80</th>\n",
       "      <td>0.8</td>\n",
       "      <td>240</td>\n",
       "      <td>31</td>\n",
       "      <td>308</td>\n",
       "      <td>900</td>\n",
       "    </tr>\n",
       "    <tr>\n",
       "      <th>90</th>\n",
       "      <td>0.9</td>\n",
       "      <td>160</td>\n",
       "      <td>14</td>\n",
       "      <td>388</td>\n",
       "      <td>917</td>\n",
       "    </tr>\n",
       "    <tr>\n",
       "      <th>100</th>\n",
       "      <td>1.0</td>\n",
       "      <td>0</td>\n",
       "      <td>0</td>\n",
       "      <td>548</td>\n",
       "      <td>931</td>\n",
       "    </tr>\n",
       "  </tbody>\n",
       "</table>\n",
       "</div>"
      ],
      "text/plain": [
       "     thresholds   tp   fp   fn   tn\n",
       "0           0.0  548  931    0    0\n",
       "10          0.1  532  471   16  460\n",
       "20          0.2  506  276   42  655\n",
       "30          0.3  466  182   82  749\n",
       "40          0.4  427  126  121  805\n",
       "50          0.5  389  100  159  831\n",
       "60          0.6  344   75  204  856\n",
       "70          0.7  297   52  251  879\n",
       "80          0.8  240   31  308  900\n",
       "90          0.9  160   14  388  917\n",
       "100         1.0    0    0  548  931"
      ]
     },
     "execution_count": 135,
     "metadata": {},
     "output_type": "execute_result"
    }
   ],
   "source": [
    "df_scores = pd.DataFrame(scores)\n",
    "df_scores.columns = ['thresholds','tp','fp','fn','tn']\n",
    "df_scores[::10]"
   ]
  },
  {
   "cell_type": "code",
   "execution_count": 136,
   "id": "6f978cb2",
   "metadata": {
    "id": "6f978cb2",
    "outputId": "e3e5d676-eef8-482d-f610-9639ebf97086"
   },
   "outputs": [
    {
     "data": {
      "text/html": [
       "<div>\n",
       "<style scoped>\n",
       "    .dataframe tbody tr th:only-of-type {\n",
       "        vertical-align: middle;\n",
       "    }\n",
       "\n",
       "    .dataframe tbody tr th {\n",
       "        vertical-align: top;\n",
       "    }\n",
       "\n",
       "    .dataframe thead th {\n",
       "        text-align: right;\n",
       "    }\n",
       "</style>\n",
       "<table border=\"1\" class=\"dataframe\">\n",
       "  <thead>\n",
       "    <tr style=\"text-align: right;\">\n",
       "      <th></th>\n",
       "      <th>thresholds</th>\n",
       "      <th>tp</th>\n",
       "      <th>fp</th>\n",
       "      <th>fn</th>\n",
       "      <th>tn</th>\n",
       "      <th>tpr</th>\n",
       "      <th>fpr</th>\n",
       "    </tr>\n",
       "  </thead>\n",
       "  <tbody>\n",
       "    <tr>\n",
       "      <th>0</th>\n",
       "      <td>0.0</td>\n",
       "      <td>548</td>\n",
       "      <td>931</td>\n",
       "      <td>0</td>\n",
       "      <td>0</td>\n",
       "      <td>1.000000</td>\n",
       "      <td>1.000000</td>\n",
       "    </tr>\n",
       "    <tr>\n",
       "      <th>10</th>\n",
       "      <td>0.1</td>\n",
       "      <td>532</td>\n",
       "      <td>471</td>\n",
       "      <td>16</td>\n",
       "      <td>460</td>\n",
       "      <td>0.970803</td>\n",
       "      <td>0.505908</td>\n",
       "    </tr>\n",
       "    <tr>\n",
       "      <th>20</th>\n",
       "      <td>0.2</td>\n",
       "      <td>506</td>\n",
       "      <td>276</td>\n",
       "      <td>42</td>\n",
       "      <td>655</td>\n",
       "      <td>0.923358</td>\n",
       "      <td>0.296455</td>\n",
       "    </tr>\n",
       "    <tr>\n",
       "      <th>30</th>\n",
       "      <td>0.3</td>\n",
       "      <td>466</td>\n",
       "      <td>182</td>\n",
       "      <td>82</td>\n",
       "      <td>749</td>\n",
       "      <td>0.850365</td>\n",
       "      <td>0.195489</td>\n",
       "    </tr>\n",
       "    <tr>\n",
       "      <th>40</th>\n",
       "      <td>0.4</td>\n",
       "      <td>427</td>\n",
       "      <td>126</td>\n",
       "      <td>121</td>\n",
       "      <td>805</td>\n",
       "      <td>0.779197</td>\n",
       "      <td>0.135338</td>\n",
       "    </tr>\n",
       "    <tr>\n",
       "      <th>50</th>\n",
       "      <td>0.5</td>\n",
       "      <td>389</td>\n",
       "      <td>100</td>\n",
       "      <td>159</td>\n",
       "      <td>831</td>\n",
       "      <td>0.709854</td>\n",
       "      <td>0.107411</td>\n",
       "    </tr>\n",
       "    <tr>\n",
       "      <th>60</th>\n",
       "      <td>0.6</td>\n",
       "      <td>344</td>\n",
       "      <td>75</td>\n",
       "      <td>204</td>\n",
       "      <td>856</td>\n",
       "      <td>0.627737</td>\n",
       "      <td>0.080559</td>\n",
       "    </tr>\n",
       "    <tr>\n",
       "      <th>70</th>\n",
       "      <td>0.7</td>\n",
       "      <td>297</td>\n",
       "      <td>52</td>\n",
       "      <td>251</td>\n",
       "      <td>879</td>\n",
       "      <td>0.541971</td>\n",
       "      <td>0.055854</td>\n",
       "    </tr>\n",
       "    <tr>\n",
       "      <th>80</th>\n",
       "      <td>0.8</td>\n",
       "      <td>240</td>\n",
       "      <td>31</td>\n",
       "      <td>308</td>\n",
       "      <td>900</td>\n",
       "      <td>0.437956</td>\n",
       "      <td>0.033298</td>\n",
       "    </tr>\n",
       "    <tr>\n",
       "      <th>90</th>\n",
       "      <td>0.9</td>\n",
       "      <td>160</td>\n",
       "      <td>14</td>\n",
       "      <td>388</td>\n",
       "      <td>917</td>\n",
       "      <td>0.291971</td>\n",
       "      <td>0.015038</td>\n",
       "    </tr>\n",
       "    <tr>\n",
       "      <th>100</th>\n",
       "      <td>1.0</td>\n",
       "      <td>0</td>\n",
       "      <td>0</td>\n",
       "      <td>548</td>\n",
       "      <td>931</td>\n",
       "      <td>0.000000</td>\n",
       "      <td>0.000000</td>\n",
       "    </tr>\n",
       "  </tbody>\n",
       "</table>\n",
       "</div>"
      ],
      "text/plain": [
       "     thresholds   tp   fp   fn   tn       tpr       fpr\n",
       "0           0.0  548  931    0    0  1.000000  1.000000\n",
       "10          0.1  532  471   16  460  0.970803  0.505908\n",
       "20          0.2  506  276   42  655  0.923358  0.296455\n",
       "30          0.3  466  182   82  749  0.850365  0.195489\n",
       "40          0.4  427  126  121  805  0.779197  0.135338\n",
       "50          0.5  389  100  159  831  0.709854  0.107411\n",
       "60          0.6  344   75  204  856  0.627737  0.080559\n",
       "70          0.7  297   52  251  879  0.541971  0.055854\n",
       "80          0.8  240   31  308  900  0.437956  0.033298\n",
       "90          0.9  160   14  388  917  0.291971  0.015038\n",
       "100         1.0    0    0  548  931  0.000000  0.000000"
      ]
     },
     "execution_count": 136,
     "metadata": {},
     "output_type": "execute_result"
    }
   ],
   "source": [
    "df_scores['tpr'] = df_scores.tp / (df_scores.tp+df_scores.fn)\n",
    "df_scores['fpr'] = df_scores.fp / (df_scores.fp+df_scores.tn)\n",
    "df_scores[::10]"
   ]
  },
  {
   "cell_type": "code",
   "execution_count": 137,
   "id": "44e54417",
   "metadata": {
    "id": "44e54417",
    "outputId": "4b27c753-01ee-4023-c97e-e30658658c08"
   },
   "outputs": [
    {
     "data": {
      "image/png": "[encoded data removed]",
      "text/plain": [
       "<Figure size 432x288 with 1 Axes>"
      ]
     },
     "metadata": {
      "needs_background": "light"
     },
     "output_type": "display_data"
    }
   ],
   "source": [
    "plt.plot(df_scores.thresholds, df_scores.tpr, label='TPR')\n",
    "plt.plot(df_scores.thresholds, df_scores.fpr, label='FPR')\n",
    "plt.xlabel('Thresholds')\n",
    "plt.title('TPR and FPR')\n",
    "plt.legend()\n",
    "plt.show()"
   ]
  },
  {
   "cell_type": "markdown",
   "id": "096052c9",
   "metadata": {
    "id": "096052c9"
   },
   "source": [
    "The TPR and FPR for our model evaluated at different thresholds."
   ]
  },
  {
   "cell_type": "markdown",
   "id": "6fca7f81",
   "metadata": {
    "id": "6fca7f81"
   },
   "source": [
    "#### Random baseline model"
   ]
  },
  {
   "cell_type": "code",
   "execution_count": 138,
   "id": "e5b82c96",
   "metadata": {
    "id": "e5b82c96"
   },
   "outputs": [],
   "source": [
    "np.random.seed(1)\n",
    "y_rand = np.random.uniform(0,1, size=len(val_y))\n",
    "y_rand = y_rand.reshape(-1,1)"
   ]
  },
  {
   "cell_type": "code",
   "execution_count": 139,
   "id": "2e1b6de4",
   "metadata": {
    "id": "2e1b6de4"
   },
   "outputs": [],
   "source": [
    "def tpr_fpr_dataframe(y_val, y_pred):\n",
    "    scores = []\n",
    "    thresholds = np.linspace(0,1,101)\n",
    "    \n",
    "    for t in thresholds:\n",
    "        tp = ((y_pred>=t)&(y_val==1)).sum()\n",
    "        fp = ((y_pred>=t)&(y_val==0)).sum()\n",
    "        fn = ((y_pred<t)&(y_val==1)).sum()\n",
    "        tn = ((y_pred<t)&(y_val==0)).sum()\n",
    "        scores.append((t,tp,fp,fn,tn))\n",
    "        \n",
    "        df_scores = pd.DataFrame(scores)\n",
    "    df_scores.columns = ['thresholds','tp','fp','fn','tn']\n",
    "    \n",
    "    df_scores['tpr'] = df_scores.tp / (df_scores.tp+df_scores.fn)\n",
    "    df_scores['fpr'] = df_scores.fp / (df_scores.fp+df_scores.tn)\n",
    "    \n",
    "    return df_scores"
   ]
  },
  {
   "cell_type": "code",
   "execution_count": 140,
   "id": "af959c35",
   "metadata": {
    "id": "af959c35"
   },
   "outputs": [],
   "source": [
    "df_rand = tpr_fpr_dataframe(val_y, y_rand)"
   ]
  },
  {
   "cell_type": "code",
   "execution_count": 141,
   "id": "aad995e5",
   "metadata": {
    "id": "aad995e5",
    "outputId": "f8e4bd64-d6dc-4054-cff3-8bf7c95c315e"
   },
   "outputs": [
    {
     "data": {
      "text/html": [
       "<div>\n",
       "<style scoped>\n",
       "    .dataframe tbody tr th:only-of-type {\n",
       "        vertical-align: middle;\n",
       "    }\n",
       "\n",
       "    .dataframe tbody tr th {\n",
       "        vertical-align: top;\n",
       "    }\n",
       "\n",
       "    .dataframe thead th {\n",
       "        text-align: right;\n",
       "    }\n",
       "</style>\n",
       "<table border=\"1\" class=\"dataframe\">\n",
       "  <thead>\n",
       "    <tr style=\"text-align: right;\">\n",
       "      <th></th>\n",
       "      <th>thresholds</th>\n",
       "      <th>tp</th>\n",
       "      <th>fp</th>\n",
       "      <th>fn</th>\n",
       "      <th>tn</th>\n",
       "      <th>tpr</th>\n",
       "      <th>fpr</th>\n",
       "    </tr>\n",
       "  </thead>\n",
       "  <tbody>\n",
       "    <tr>\n",
       "      <th>0</th>\n",
       "      <td>0.0</td>\n",
       "      <td>548</td>\n",
       "      <td>931</td>\n",
       "      <td>0</td>\n",
       "      <td>0</td>\n",
       "      <td>1.000000</td>\n",
       "      <td>1.000000</td>\n",
       "    </tr>\n",
       "    <tr>\n",
       "      <th>10</th>\n",
       "      <td>0.1</td>\n",
       "      <td>492</td>\n",
       "      <td>838</td>\n",
       "      <td>56</td>\n",
       "      <td>93</td>\n",
       "      <td>0.897810</td>\n",
       "      <td>0.900107</td>\n",
       "    </tr>\n",
       "    <tr>\n",
       "      <th>20</th>\n",
       "      <td>0.2</td>\n",
       "      <td>435</td>\n",
       "      <td>746</td>\n",
       "      <td>113</td>\n",
       "      <td>185</td>\n",
       "      <td>0.793796</td>\n",
       "      <td>0.801289</td>\n",
       "    </tr>\n",
       "    <tr>\n",
       "      <th>30</th>\n",
       "      <td>0.3</td>\n",
       "      <td>381</td>\n",
       "      <td>660</td>\n",
       "      <td>167</td>\n",
       "      <td>271</td>\n",
       "      <td>0.695255</td>\n",
       "      <td>0.708915</td>\n",
       "    </tr>\n",
       "    <tr>\n",
       "      <th>40</th>\n",
       "      <td>0.4</td>\n",
       "      <td>332</td>\n",
       "      <td>565</td>\n",
       "      <td>216</td>\n",
       "      <td>366</td>\n",
       "      <td>0.605839</td>\n",
       "      <td>0.606874</td>\n",
       "    </tr>\n",
       "    <tr>\n",
       "      <th>50</th>\n",
       "      <td>0.5</td>\n",
       "      <td>281</td>\n",
       "      <td>469</td>\n",
       "      <td>267</td>\n",
       "      <td>462</td>\n",
       "      <td>0.512774</td>\n",
       "      <td>0.503759</td>\n",
       "    </tr>\n",
       "    <tr>\n",
       "      <th>60</th>\n",
       "      <td>0.6</td>\n",
       "      <td>215</td>\n",
       "      <td>380</td>\n",
       "      <td>333</td>\n",
       "      <td>551</td>\n",
       "      <td>0.392336</td>\n",
       "      <td>0.408163</td>\n",
       "    </tr>\n",
       "    <tr>\n",
       "      <th>70</th>\n",
       "      <td>0.7</td>\n",
       "      <td>169</td>\n",
       "      <td>273</td>\n",
       "      <td>379</td>\n",
       "      <td>658</td>\n",
       "      <td>0.308394</td>\n",
       "      <td>0.293233</td>\n",
       "    </tr>\n",
       "    <tr>\n",
       "      <th>80</th>\n",
       "      <td>0.8</td>\n",
       "      <td>110</td>\n",
       "      <td>191</td>\n",
       "      <td>438</td>\n",
       "      <td>740</td>\n",
       "      <td>0.200730</td>\n",
       "      <td>0.205156</td>\n",
       "    </tr>\n",
       "    <tr>\n",
       "      <th>90</th>\n",
       "      <td>0.9</td>\n",
       "      <td>56</td>\n",
       "      <td>93</td>\n",
       "      <td>492</td>\n",
       "      <td>838</td>\n",
       "      <td>0.102190</td>\n",
       "      <td>0.099893</td>\n",
       "    </tr>\n",
       "    <tr>\n",
       "      <th>100</th>\n",
       "      <td>1.0</td>\n",
       "      <td>0</td>\n",
       "      <td>0</td>\n",
       "      <td>548</td>\n",
       "      <td>931</td>\n",
       "      <td>0.000000</td>\n",
       "      <td>0.000000</td>\n",
       "    </tr>\n",
       "  </tbody>\n",
       "</table>\n",
       "</div>"
      ],
      "text/plain": [
       "     thresholds   tp   fp   fn   tn       tpr       fpr\n",
       "0           0.0  548  931    0    0  1.000000  1.000000\n",
       "10          0.1  492  838   56   93  0.897810  0.900107\n",
       "20          0.2  435  746  113  185  0.793796  0.801289\n",
       "30          0.3  381  660  167  271  0.695255  0.708915\n",
       "40          0.4  332  565  216  366  0.605839  0.606874\n",
       "50          0.5  281  469  267  462  0.512774  0.503759\n",
       "60          0.6  215  380  333  551  0.392336  0.408163\n",
       "70          0.7  169  273  379  658  0.308394  0.293233\n",
       "80          0.8  110  191  438  740  0.200730  0.205156\n",
       "90          0.9   56   93  492  838  0.102190  0.099893\n",
       "100         1.0    0    0  548  931  0.000000  0.000000"
      ]
     },
     "execution_count": 141,
     "metadata": {},
     "output_type": "execute_result"
    }
   ],
   "source": [
    "df_rand[::10]"
   ]
  },
  {
   "cell_type": "code",
   "execution_count": 142,
   "id": "afaac184",
   "metadata": {
    "id": "afaac184",
    "outputId": "d1bb0da7-7fa2-440e-bcc9-298e2e82c437"
   },
   "outputs": [
    {
     "data": {
      "image/png": "[encoded data removed]",
      "text/plain": [
       "<Figure size 432x288 with 1 Axes>"
      ]
     },
     "metadata": {
      "needs_background": "light"
     },
     "output_type": "display_data"
    }
   ],
   "source": [
    "plt.plot(df_rand.thresholds, df_rand.tpr, label='TPR')\n",
    "plt.plot(df_rand.thresholds, df_rand.fpr, label='FPR')\n",
    "plt.xlabel('Thresholds')\n",
    "plt.title('TPR and FPR for the random model')\n",
    "plt.legend()\n",
    "plt.show()"
   ]
  },
  {
   "cell_type": "markdown",
   "id": "c283527f",
   "metadata": {
    "id": "c283527f"
   },
   "source": [
    "#### The ideal model"
   ]
  },
  {
   "cell_type": "code",
   "execution_count": 143,
   "id": "a6220dca",
   "metadata": {
    "id": "a6220dca",
    "outputId": "f1cf1461-c388-4f93-a4bd-96bbfd59ef45"
   },
   "outputs": [
    {
     "data": {
      "text/html": [
       "<div>\n",
       "<style scoped>\n",
       "    .dataframe tbody tr th:only-of-type {\n",
       "        vertical-align: middle;\n",
       "    }\n",
       "\n",
       "    .dataframe tbody tr th {\n",
       "        vertical-align: top;\n",
       "    }\n",
       "\n",
       "    .dataframe thead th {\n",
       "        text-align: right;\n",
       "    }\n",
       "</style>\n",
       "<table border=\"1\" class=\"dataframe\">\n",
       "  <thead>\n",
       "    <tr style=\"text-align: right;\">\n",
       "      <th></th>\n",
       "      <th>thresholds</th>\n",
       "      <th>tp</th>\n",
       "      <th>fp</th>\n",
       "      <th>fn</th>\n",
       "      <th>tn</th>\n",
       "      <th>tpr</th>\n",
       "      <th>fpr</th>\n",
       "    </tr>\n",
       "  </thead>\n",
       "  <tbody>\n",
       "    <tr>\n",
       "      <th>0</th>\n",
       "      <td>0.0</td>\n",
       "      <td>548</td>\n",
       "      <td>931</td>\n",
       "      <td>0</td>\n",
       "      <td>0</td>\n",
       "      <td>1.000000</td>\n",
       "      <td>1.000000</td>\n",
       "    </tr>\n",
       "    <tr>\n",
       "      <th>10</th>\n",
       "      <td>0.1</td>\n",
       "      <td>548</td>\n",
       "      <td>783</td>\n",
       "      <td>0</td>\n",
       "      <td>148</td>\n",
       "      <td>1.000000</td>\n",
       "      <td>0.841031</td>\n",
       "    </tr>\n",
       "    <tr>\n",
       "      <th>20</th>\n",
       "      <td>0.2</td>\n",
       "      <td>548</td>\n",
       "      <td>635</td>\n",
       "      <td>0</td>\n",
       "      <td>296</td>\n",
       "      <td>1.000000</td>\n",
       "      <td>0.682062</td>\n",
       "    </tr>\n",
       "    <tr>\n",
       "      <th>30</th>\n",
       "      <td>0.3</td>\n",
       "      <td>548</td>\n",
       "      <td>487</td>\n",
       "      <td>0</td>\n",
       "      <td>444</td>\n",
       "      <td>1.000000</td>\n",
       "      <td>0.523093</td>\n",
       "    </tr>\n",
       "    <tr>\n",
       "      <th>40</th>\n",
       "      <td>0.4</td>\n",
       "      <td>548</td>\n",
       "      <td>339</td>\n",
       "      <td>0</td>\n",
       "      <td>592</td>\n",
       "      <td>1.000000</td>\n",
       "      <td>0.364125</td>\n",
       "    </tr>\n",
       "    <tr>\n",
       "      <th>50</th>\n",
       "      <td>0.5</td>\n",
       "      <td>548</td>\n",
       "      <td>192</td>\n",
       "      <td>0</td>\n",
       "      <td>739</td>\n",
       "      <td>1.000000</td>\n",
       "      <td>0.206230</td>\n",
       "    </tr>\n",
       "    <tr>\n",
       "      <th>60</th>\n",
       "      <td>0.6</td>\n",
       "      <td>548</td>\n",
       "      <td>44</td>\n",
       "      <td>0</td>\n",
       "      <td>887</td>\n",
       "      <td>1.000000</td>\n",
       "      <td>0.047261</td>\n",
       "    </tr>\n",
       "    <tr>\n",
       "      <th>70</th>\n",
       "      <td>0.7</td>\n",
       "      <td>444</td>\n",
       "      <td>0</td>\n",
       "      <td>104</td>\n",
       "      <td>931</td>\n",
       "      <td>0.810219</td>\n",
       "      <td>0.000000</td>\n",
       "    </tr>\n",
       "    <tr>\n",
       "      <th>80</th>\n",
       "      <td>0.8</td>\n",
       "      <td>296</td>\n",
       "      <td>0</td>\n",
       "      <td>252</td>\n",
       "      <td>931</td>\n",
       "      <td>0.540146</td>\n",
       "      <td>0.000000</td>\n",
       "    </tr>\n",
       "    <tr>\n",
       "      <th>90</th>\n",
       "      <td>0.9</td>\n",
       "      <td>148</td>\n",
       "      <td>0</td>\n",
       "      <td>400</td>\n",
       "      <td>931</td>\n",
       "      <td>0.270073</td>\n",
       "      <td>0.000000</td>\n",
       "    </tr>\n",
       "    <tr>\n",
       "      <th>100</th>\n",
       "      <td>1.0</td>\n",
       "      <td>1</td>\n",
       "      <td>0</td>\n",
       "      <td>547</td>\n",
       "      <td>931</td>\n",
       "      <td>0.001825</td>\n",
       "      <td>0.000000</td>\n",
       "    </tr>\n",
       "  </tbody>\n",
       "</table>\n",
       "</div>"
      ],
      "text/plain": [
       "     thresholds   tp   fp   fn   tn       tpr       fpr\n",
       "0           0.0  548  931    0    0  1.000000  1.000000\n",
       "10          0.1  548  783    0  148  1.000000  0.841031\n",
       "20          0.2  548  635    0  296  1.000000  0.682062\n",
       "30          0.3  548  487    0  444  1.000000  0.523093\n",
       "40          0.4  548  339    0  592  1.000000  0.364125\n",
       "50          0.5  548  192    0  739  1.000000  0.206230\n",
       "60          0.6  548   44    0  887  1.000000  0.047261\n",
       "70          0.7  444    0  104  931  0.810219  0.000000\n",
       "80          0.8  296    0  252  931  0.540146  0.000000\n",
       "90          0.9  148    0  400  931  0.270073  0.000000\n",
       "100         1.0    1    0  547  931  0.001825  0.000000"
      ]
     },
     "execution_count": 143,
     "metadata": {},
     "output_type": "execute_result"
    }
   ],
   "source": [
    "num_neg = (val_y==0).sum()\n",
    "num_pos = (val_y==1).sum()\n",
    "\n",
    "y_ideal = np.repeat([0,1], [num_neg, num_pos])\n",
    "y_pred_ideal = np.linspace(0,1, num_neg+num_pos)\n",
    "\n",
    "df_ideal = tpr_fpr_dataframe(y_ideal, y_pred_ideal)\n",
    "df_ideal[::10]"
   ]
  },
  {
   "cell_type": "code",
   "execution_count": 144,
   "id": "484c3f11",
   "metadata": {
    "id": "484c3f11",
    "outputId": "b500c45f-5c33-4d14-aad2-f0e8dc6c4742"
   },
   "outputs": [
    {
     "data": {
      "image/png": "[encoded data removed]",
      "text/plain": [
       "<Figure size 432x288 with 1 Axes>"
      ]
     },
     "metadata": {
      "needs_background": "light"
     },
     "output_type": "display_data"
    }
   ],
   "source": [
    "plt.plot(df_ideal.thresholds, df_ideal.tpr, label='TPR')\n",
    "plt.plot(df_ideal.thresholds, df_ideal.fpr, label='FPR')\n",
    "plt.xlabel('Thresholds')\n",
    "plt.title('TPR and FPR for the ideal model')\n",
    "plt.legend()\n",
    "plt.show()"
   ]
  },
  {
   "cell_type": "markdown",
   "id": "80b363e5",
   "metadata": {
    "id": "80b363e5"
   },
   "source": [
    "#### ROC Curve"
   ]
  },
  {
   "cell_type": "code",
   "execution_count": 145,
   "id": "a8b8dd7c",
   "metadata": {
    "id": "a8b8dd7c",
    "outputId": "2b3bca29-b986-43e0-bd7e-f25d72b0c1b7"
   },
   "outputs": [
    {
     "data": {
      "image/png": "[encoded data removed]",
      "text/plain": [
       "<Figure size 360x360 with 1 Axes>"
      ]
     },
     "metadata": {
      "needs_background": "light"
     },
     "output_type": "display_data"
    }
   ],
   "source": [
    "plt.figure(figsize=(5,5))\n",
    "\n",
    "plt.plot(df_scores.fpr, df_scores.tpr, label=\"Model\")\n",
    "plt.plot(df_rand.fpr, df_rand.tpr,'b--', label=\"Random\")\n",
    "plt.plot(df_ideal.fpr, df_ideal.tpr,'y--',label=\"Ideal\")\n",
    "plt.legend()\n",
    "\n",
    "plt.xlabel('False Positive Rate')\n",
    "plt.ylabel('True Positive Rate')\n",
    "plt.title('ROC curve')\n",
    "\n",
    "plt.show()"
   ]
  },
  {
   "cell_type": "markdown",
   "id": "1f5c0c68",
   "metadata": {
    "id": "1f5c0c68"
   },
   "source": [
    "The ROC curve shows the relationship between the FPR and TPR of a model."
   ]
  },
  {
   "cell_type": "code",
   "execution_count": 146,
   "id": "9611c122",
   "metadata": {
    "id": "9611c122"
   },
   "outputs": [],
   "source": [
    "from sklearn.metrics import roc_curve"
   ]
  },
  {
   "cell_type": "code",
   "execution_count": 147,
   "id": "f045a2a9",
   "metadata": {
    "id": "f045a2a9"
   },
   "outputs": [],
   "source": [
    "fpr, tpr, thresholds = roc_curve(val_y, preds.reshape(-1,1))"
   ]
  },
  {
   "cell_type": "code",
   "execution_count": 148,
   "id": "36ec7a1e",
   "metadata": {
    "id": "36ec7a1e",
    "outputId": "a8d4fdb5-138b-4b3e-9c06-b2a8823fb7c5"
   },
   "outputs": [
    {
     "data": {
      "image/png": "[encoded data removed]",
      "text/plain": [
       "<Figure size 360x360 with 1 Axes>"
      ]
     },
     "metadata": {
      "needs_background": "light"
     },
     "output_type": "display_data"
    }
   ],
   "source": [
    "plt.figure(figsize=(5,5))\n",
    "plt.plot(fpr,tpr)\n",
    "plt.plot([0,1],[0,1], 'b--')\n",
    "plt.show()"
   ]
  },
  {
   "cell_type": "markdown",
   "id": "8b2c7195",
   "metadata": {
    "id": "8b2c7195"
   },
   "source": [
    "The baseline makes it easier to see how far the ROC curve of our model is from that of a random model. The top-left corner(0,1) is  the \"ideal spot\": the closer our models get to it, the better. "
   ]
  },
  {
   "cell_type": "markdown",
   "id": "cf25cad5",
   "metadata": {
    "id": "cf25cad5"
   },
   "source": [
    "#### Area under the ROC curve (AUC)"
   ]
  },
  {
   "cell_type": "code",
   "execution_count": 149,
   "id": "ab6a128b",
   "metadata": {
    "id": "ab6a128b"
   },
   "outputs": [],
   "source": [
    "from sklearn.metrics import auc"
   ]
  },
  {
   "cell_type": "code",
   "execution_count": 150,
   "id": "17f506cb",
   "metadata": {
    "id": "17f506cb",
    "outputId": "806dab08-53c9-4eae-b111-ef126754830e"
   },
   "outputs": [
    {
     "data": {
      "text/plain": [
       "0.9020243518075689"
      ]
     },
     "execution_count": 150,
     "metadata": {},
     "output_type": "execute_result"
    }
   ],
   "source": [
    "auc(fpr,tpr)"
   ]
  },
  {
   "cell_type": "code",
   "execution_count": 151,
   "id": "b119659c",
   "metadata": {
    "id": "b119659c"
   },
   "outputs": [],
   "source": [
    "from sklearn.metrics import roc_auc_score"
   ]
  },
  {
   "cell_type": "code",
   "execution_count": 152,
   "id": "3ea5d18d",
   "metadata": {
    "id": "3ea5d18d",
    "outputId": "9cf102d2-6bfc-4167-9d54-2e7f73df1d51"
   },
   "outputs": [
    {
     "data": {
      "text/plain": [
       "1.0"
      ]
     },
     "execution_count": 152,
     "metadata": {},
     "output_type": "execute_result"
    }
   ],
   "source": [
    "roc_auc_score(y_ideal, y_pred_ideal)"
   ]
  },
  {
   "cell_type": "code",
   "execution_count": 153,
   "id": "f4203802",
   "metadata": {
    "id": "f4203802",
    "outputId": "0ae8bcb2-6c42-42b8-e81f-75c84d04cfec"
   },
   "outputs": [
    {
     "data": {
      "text/plain": [
       "0.4981007001340682"
      ]
     },
     "execution_count": 153,
     "metadata": {},
     "output_type": "execute_result"
    }
   ],
   "source": [
    "roc_auc_score(val_y, y_rand)"
   ]
  },
  {
   "cell_type": "markdown",
   "id": "b7f97867",
   "metadata": {
    "id": "b7f97867"
   },
   "source": [
    "We want ROC curve to be close to the ideal spot as possible and as far ffrom the random baseline as possible."
   ]
  },
  {
   "cell_type": "markdown",
   "id": "28f925d9",
   "metadata": {
    "id": "28f925d9"
   },
   "source": [
    "An AUC of 0.9 is indicative of a reasonably good model."
   ]
  },
  {
   "cell_type": "markdown",
   "id": "4b7b1920",
   "metadata": {
    "id": "4b7b1920"
   },
   "source": [
    "#### K-fold cross validation"
   ]
  },
  {
   "cell_type": "code",
   "execution_count": 154,
   "id": "b9844a15",
   "metadata": {
    "id": "b9844a15"
   },
   "outputs": [],
   "source": [
    "def train(df,y):\n",
    "    cate = df[cat+numerical].to_dict(orient='rows')\n",
    "    \n",
    "    dv = DictVectorizer(sparse=False)\n",
    "    dv.fit(cate)\n",
    "    \n",
    "    X = dv.transform(cate)\n",
    "    \n",
    "    model = LogisticRegression(solver='liblinear')\n",
    "    model.fit(X,y)\n",
    "    \n",
    "    return dv, model"
   ]
  },
  {
   "cell_type": "code",
   "execution_count": 155,
   "id": "a0ee89c4",
   "metadata": {
    "id": "a0ee89c4"
   },
   "outputs": [],
   "source": [
    "def predict(df, dv, model):\n",
    "    cate = df[cat+numerical].to_dict(orient='rows')\n",
    "    \n",
    "    X = dv.transform(cate)\n",
    "    y_pred = model.predict_proba(X)[:,1]\n",
    "    \n",
    "    return y_pred"
   ]
  },
  {
   "cell_type": "code",
   "execution_count": 156,
   "id": "f7aa193d",
   "metadata": {
    "id": "f7aa193d"
   },
   "outputs": [],
   "source": [
    "from sklearn.model_selection import KFold\n",
    "\n",
    "kfold = KFold(n_splits=10, shuffle=True, random_state=1)\n",
    "\n",
    "aucs = []\n",
    "\n",
    "for train_idx, val_idx in kfold.split(train_full):\n",
    "    df_train = train_full.iloc[train_idx]\n",
    "    df_val = train_full.iloc[val_idx]\n",
    "    \n",
    "    y_train = df_train['converted'].values.reshape(-1,1)\n",
    "    y_val = df_val['converted'].values.reshape(-1,1)\n",
    "    \n",
    "    dv, model = train(df_train, y_train)\n",
    "    y_pred = predict(df_val, dv, model)\n",
    "    \n",
    "    auc = roc_auc_score(y_val, y_pred)\n",
    "    aucs.append(round(auc,3))"
   ]
  },
  {
   "cell_type": "code",
   "execution_count": 157,
   "id": "3d4753ec",
   "metadata": {
    "id": "3d4753ec",
    "outputId": "09149003-ab38-4ae6-b3ef-18e1521c23f6"
   },
   "outputs": [
    {
     "name": "stdout",
     "output_type": "stream",
     "text": [
      "[0.89, 0.911, 0.901, 0.911, 0.901, 0.905, 0.895, 0.909, 0.905, 0.914]\n",
      "auc = 0.9042 +- 0.007208328516376046\n"
     ]
    }
   ],
   "source": [
    "print(aucs)\n",
    "print(f'auc = {np.mean(aucs)} +- {np.std(aucs)}')"
   ]
  },
  {
   "cell_type": "markdown",
   "id": "36bd1099",
   "metadata": {
    "id": "36bd1099"
   },
   "source": [
    "#### Finding best parametrs"
   ]
  },
  {
   "cell_type": "code",
   "execution_count": 158,
   "id": "66082d8e",
   "metadata": {
    "id": "66082d8e"
   },
   "outputs": [],
   "source": [
    "def train(df, y, C):\n",
    "    cate = df[cat+numerical].to_dict(orient='rows')\n",
    "    \n",
    "    dv = DictVectorizer()\n",
    "    dv.fit(cate)\n",
    "    \n",
    "    X = dv.transform(cate)\n",
    "    \n",
    "    model = LogisticRegression(solver='liblinear', C=C)\n",
    "    model.fit(X,y)\n",
    "    \n",
    "    return dv, model"
   ]
  },
  {
   "cell_type": "code",
   "execution_count": 159,
   "id": "3b11d418",
   "metadata": {
    "id": "3b11d418",
    "outputId": "ae6801a2-e6f9-4992-954d-bc6551a3b1d4"
   },
   "outputs": [
    {
     "name": "stdout",
     "output_type": "stream",
     "text": [
      "C=0.001 auc = 0.861 +- 0.010954451150103331\n",
      "C=0.01 auc = 0.8946000000000002 +- 0.0062481997407253295\n",
      "C=0.1 auc = 0.9030000000000001 +- 0.006899275324264142\n",
      "C=0.5 auc = 0.9041 +- 0.006992138442565342\n",
      "C=1 auc = 0.9042 +- 0.007208328516376046\n",
      "C=10 auc = 0.9045 +- 0.007283543093852063\n"
     ]
    }
   ],
   "source": [
    "nfolds = 10\n",
    "kfold = KFold(n_splits=nfolds, shuffle=True, random_state=1)\n",
    "\n",
    "for C in [0.001, 0.01, 0.1, 0.5, 1, 10]:\n",
    "    aucs = []\n",
    "    \n",
    "    for train_idx, val_idx in kfold.split(train_full):\n",
    "        df_train = train_full.iloc[train_idx].reset_index(drop=True)\n",
    "        df_val = train_full.iloc[val_idx].reset_index(drop=True)\n",
    "\n",
    "        y_train = df_train['converted'].values.reshape(-1,1)\n",
    "        y_val = df_val['converted'].values.reshape(-1,1)\n",
    "\n",
    "        dv, model = train(df_train, y_train, C=C)\n",
    "        y_pred = predict(df_val, dv, model)\n",
    "\n",
    "        auc = roc_auc_score(y_val, y_pred)\n",
    "        aucs.append(round(auc,3))\n",
    "    \n",
    "    print(f'C={C} auc = {np.mean(aucs)} +- {np.std(aucs)}')"
   ]
  },
  {
   "cell_type": "markdown",
   "id": "80848d19",
   "metadata": {
    "id": "80848d19"
   },
   "source": [
    "#### On test data"
   ]
  },
  {
   "cell_type": "code",
   "execution_count": 160,
   "id": "2200d070",
   "metadata": {
    "id": "2200d070"
   },
   "outputs": [],
   "source": [
    "test_dict = test_X[cat+numerical].to_dict(orient='rows')"
   ]
  },
  {
   "cell_type": "code",
   "execution_count": 161,
   "id": "74a5efdf",
   "metadata": {
    "id": "74a5efdf",
    "outputId": "e025fb42-2e8e-473c-94c8-9b3bad09973d"
   },
   "outputs": [
    {
     "data": {
      "text/plain": [
       "{'what_is_your_current_occupation': 'Unemployed',\n",
       " 'last_activity': 'Email Link Clicked',\n",
       " 'lead_profile': 'Potential Lead',\n",
       " 'last_notable_activity': 'Modified',\n",
       " 'lead_source': 'Reference',\n",
       " 'what_matters_most_to_you_in_choosing_a_course': 'Better Career Prospects',\n",
       " 'lead_origin': 'Lead Add Form',\n",
       " 'specialization': 'Services Excellence',\n",
       " 'do_not_email': 'No',\n",
       " 'totalvisits': 0.0,\n",
       " 'total_time_spent_on_website': 0,\n",
       " 'page_views_per_visit': 0.0}"
      ]
     },
     "execution_count": 161,
     "metadata": {},
     "output_type": "execute_result"
    }
   ],
   "source": [
    "test_dict[0]"
   ]
  },
  {
   "cell_type": "code",
   "execution_count": 162,
   "id": "376bbbbb",
   "metadata": {
    "id": "376bbbbb",
    "outputId": "a65bdea6-df12-4a18-815a-ac79e4487afd"
   },
   "outputs": [
    {
     "data": {
      "text/plain": [
       "<1x95 sparse matrix of type '<class 'numpy.float64'>'\n",
       "\twith 12 stored elements in Compressed Sparse Row format>"
      ]
     },
     "execution_count": 162,
     "metadata": {},
     "output_type": "execute_result"
    }
   ],
   "source": [
    "X_test = dv.transform(test_dict)\n",
    "X_test[0]"
   ]
  },
  {
   "cell_type": "code",
   "execution_count": 163,
   "id": "f54ef7e0",
   "metadata": {
    "id": "f54ef7e0",
    "outputId": "b331aee5-7fe3-4443-b721-45a0923e1196"
   },
   "outputs": [
    {
     "data": {
      "text/plain": [
       "['do_not_email=No',\n",
       " 'do_not_email=Yes',\n",
       " 'last_activity=Approached upfront',\n",
       " 'last_activity=Converted to Lead',\n",
       " 'last_activity=Email Bounced',\n",
       " 'last_activity=Email Link Clicked',\n",
       " 'last_activity=Email Marked Spam',\n",
       " 'last_activity=Email Opened',\n",
       " 'last_activity=Email Received',\n",
       " 'last_activity=Form Submitted on Website',\n",
       " 'last_activity=Had a Phone Conversation',\n",
       " 'last_activity=Olark Chat Conversation',\n",
       " 'last_activity=Other',\n",
       " 'last_activity=Page Visited on Website',\n",
       " 'last_activity=Resubscribed to emails',\n",
       " 'last_activity=SMS Sent',\n",
       " 'last_activity=Unreachable',\n",
       " 'last_activity=Unsubscribed',\n",
       " 'last_activity=View in browser link Clicked',\n",
       " 'last_notable_activity=Approached upfront',\n",
       " 'last_notable_activity=Email Bounced',\n",
       " 'last_notable_activity=Email Link Clicked',\n",
       " 'last_notable_activity=Email Marked Spam',\n",
       " 'last_notable_activity=Email Opened',\n",
       " 'last_notable_activity=Email Received',\n",
       " 'last_notable_activity=Form Submitted on Website',\n",
       " 'last_notable_activity=Had a Phone Conversation',\n",
       " 'last_notable_activity=Modified',\n",
       " 'last_notable_activity=Olark Chat Conversation',\n",
       " 'last_notable_activity=Page Visited on Website',\n",
       " 'last_notable_activity=Resubscribed to emails',\n",
       " 'last_notable_activity=SMS Sent',\n",
       " 'last_notable_activity=Unreachable',\n",
       " 'last_notable_activity=Unsubscribed',\n",
       " 'last_notable_activity=View in browser link Clicked',\n",
       " 'lead_origin=API',\n",
       " 'lead_origin=Landing Page Submission',\n",
       " 'lead_origin=Lead Add Form',\n",
       " 'lead_origin=Lead Import',\n",
       " 'lead_origin=Quick Add Form',\n",
       " 'lead_profile=Dual Specialization Student',\n",
       " 'lead_profile=Lateral Student',\n",
       " 'lead_profile=Other Leads',\n",
       " 'lead_profile=Potential Lead',\n",
       " 'lead_profile=Select',\n",
       " 'lead_profile=Student of SomeSchool',\n",
       " 'lead_source=Click2call',\n",
       " 'lead_source=Direct Traffic',\n",
       " 'lead_source=Facebook',\n",
       " 'lead_source=Google',\n",
       " 'lead_source=Live Chat',\n",
       " 'lead_source=NC_EDM',\n",
       " 'lead_source=Olark Chat',\n",
       " 'lead_source=Organic Search',\n",
       " 'lead_source=Press_Release',\n",
       " 'lead_source=Reference',\n",
       " 'lead_source=Referral Sites',\n",
       " 'lead_source=Social Media',\n",
       " 'lead_source=WeLearn',\n",
       " 'lead_source=Welingak Website',\n",
       " 'lead_source=bing',\n",
       " 'lead_source=blog',\n",
       " 'lead_source=welearnblog_Home',\n",
       " 'lead_source=youtubechannel',\n",
       " 'page_views_per_visit',\n",
       " 'specialization=Banking, Investment And Insurance',\n",
       " 'specialization=Business Administration',\n",
       " 'specialization=E-Business',\n",
       " 'specialization=E-COMMERCE',\n",
       " 'specialization=Finance Management',\n",
       " 'specialization=Healthcare Management',\n",
       " 'specialization=Hospitality Management',\n",
       " 'specialization=Human Resource Management',\n",
       " 'specialization=IT Projects Management',\n",
       " 'specialization=International Business',\n",
       " 'specialization=Marketing Management',\n",
       " 'specialization=Media and Advertising',\n",
       " 'specialization=Operations Management',\n",
       " 'specialization=Retail Management',\n",
       " 'specialization=Rural and Agribusiness',\n",
       " 'specialization=Select',\n",
       " 'specialization=Services Excellence',\n",
       " 'specialization=Supply Chain Management',\n",
       " 'specialization=Travel and Tourism',\n",
       " 'total_time_spent_on_website',\n",
       " 'totalvisits',\n",
       " 'what_is_your_current_occupation=Businessman',\n",
       " 'what_is_your_current_occupation=Housewife',\n",
       " 'what_is_your_current_occupation=Other',\n",
       " 'what_is_your_current_occupation=Student',\n",
       " 'what_is_your_current_occupation=Unemployed',\n",
       " 'what_is_your_current_occupation=Working Professional',\n",
       " 'what_matters_most_to_you_in_choosing_a_course=Better Career Prospects',\n",
       " 'what_matters_most_to_you_in_choosing_a_course=Flexibility & Convenience',\n",
       " 'what_matters_most_to_you_in_choosing_a_course=Other']"
      ]
     },
     "execution_count": 163,
     "metadata": {},
     "output_type": "execute_result"
    }
   ],
   "source": [
    "dv.get_feature_names()"
   ]
  },
  {
   "cell_type": "code",
   "execution_count": 164,
   "id": "bd66dcc7",
   "metadata": {
    "id": "bd66dcc7"
   },
   "outputs": [],
   "source": [
    "preds_test = model.predict_proba(X_test)"
   ]
  },
  {
   "cell_type": "code",
   "execution_count": 165,
   "id": "c7e46ae9",
   "metadata": {
    "id": "c7e46ae9"
   },
   "outputs": [],
   "source": [
    "preds_test = preds_test[:,1]"
   ]
  },
  {
   "cell_type": "code",
   "execution_count": 166,
   "id": "f07e7e24",
   "metadata": {
    "id": "f07e7e24",
    "outputId": "460ca62f-7d33-4918-9f21-521ecbe5149f"
   },
   "outputs": [
    {
     "data": {
      "text/plain": [
       "array([0.72422949, 0.93661451, 0.42494427, 0.12996133, 0.83878647])"
      ]
     },
     "execution_count": 166,
     "metadata": {},
     "output_type": "execute_result"
    }
   ],
   "source": [
    "preds_test[:5]"
   ]
  },
  {
   "cell_type": "code",
   "execution_count": 167,
   "id": "28631426",
   "metadata": {
    "id": "28631426"
   },
   "outputs": [],
   "source": [
    "pred_test =  (preds_test>0.5).astype(int).reshape(-1,1)"
   ]
  },
  {
   "cell_type": "code",
   "execution_count": 168,
   "id": "5d212b59",
   "metadata": {
    "id": "5d212b59",
    "outputId": "80e7d754-0b7e-4dec-d31f-8f4a39ce8a9f"
   },
   "outputs": [
    {
     "data": {
      "text/plain": [
       "array([[1],\n",
       "       [1],\n",
       "       [0],\n",
       "       [0],\n",
       "       [1]])"
      ]
     },
     "execution_count": 168,
     "metadata": {},
     "output_type": "execute_result"
    }
   ],
   "source": [
    "pred_test[:5]"
   ]
  },
  {
   "cell_type": "code",
   "execution_count": 169,
   "id": "ec63d42e",
   "metadata": {
    "id": "ec63d42e",
    "outputId": "f6eb4eec-e84e-4ea4-c664-e3510054c2e7"
   },
   "outputs": [
    {
     "data": {
      "text/plain": [
       "0.8371212121212122"
      ]
     },
     "execution_count": 169,
     "metadata": {},
     "output_type": "execute_result"
    }
   ],
   "source": [
    "(pred_test==test_y).mean()"
   ]
  },
  {
   "cell_type": "markdown",
   "id": "2a8e2927",
   "metadata": {
    "id": "2a8e2927"
   },
   "source": [
    "Here, there is also 84% accuray of our model."
   ]
  },
  {
   "cell_type": "code",
   "execution_count": 170,
   "id": "a60fc848",
   "metadata": {
    "id": "a60fc848"
   },
   "outputs": [],
   "source": [
    "t = 0.4\n",
    "\n",
    "predict_convert_t = (preds_test>=t).reshape(-1,1)\n",
    "predict_no_convert_t = (preds_test<t).reshape(-1,1)\n",
    "\n",
    "actual_convert_t = (test_y==1)\n",
    "actual_no_convert_t = (test_y==0)\n",
    "\n",
    "true_positive_t = (predict_convert_t & actual_convert_t).sum()\n",
    "true_negative_t = (predict_no_convert_t & actual_no_convert_t).sum()\n",
    "\n",
    "false_positive_t = (predict_convert_t & actual_no_convert_t).sum()\n",
    "false_negative_t = (predict_no_convert_t & actual_convert_t).sum()"
   ]
  },
  {
   "cell_type": "code",
   "execution_count": 171,
   "id": "3718bdbb",
   "metadata": {
    "id": "3718bdbb",
    "outputId": "823dea10-02ee-4105-ddca-b1addc7fc80e"
   },
   "outputs": [
    {
     "name": "stdout",
     "output_type": "stream",
     "text": [
      "Confussion Table:\n",
      "[[952 167]\n",
      " [132 597]]\n"
     ]
    }
   ],
   "source": [
    "confussion_table_t = np.array([[true_negative_t, false_positive_t],[false_negative_t,true_positive_t]])\n",
    "print(f'Confussion Table:\\n{confussion_table_t}')"
   ]
  },
  {
   "cell_type": "code",
   "execution_count": 172,
   "id": "7d455d0c",
   "metadata": {
    "id": "7d455d0c",
    "outputId": "5b4b61be-fd8f-49bc-b962-23bc93486f70"
   },
   "outputs": [
    {
     "data": {
      "text/plain": [
       "array([[0.51515152, 0.09036797],\n",
       "       [0.07142857, 0.32305195]])"
      ]
     },
     "execution_count": 172,
     "metadata": {},
     "output_type": "execute_result"
    }
   ],
   "source": [
    "confussion_table_t/confussion_table_t.sum()"
   ]
  },
  {
   "cell_type": "code",
   "execution_count": 173,
   "id": "721d4d7f",
   "metadata": {
    "id": "721d4d7f",
    "outputId": "34839b2d-6259-44c2-8866-07560ade45df"
   },
   "outputs": [
    {
     "name": "stdout",
     "output_type": "stream",
     "text": [
      "Precision: 0.7814136125654451\n",
      "Recall: 0.8189300411522634\n"
     ]
    }
   ],
   "source": [
    "P_t = true_positive_t/(true_positive_t+false_positive_t)\n",
    "R_t = true_positive_t/(true_positive_t+false_negative_t)\n",
    "print(f'Precision: {P_t}\\nRecall: {R_t}')"
   ]
  },
  {
   "cell_type": "code",
   "execution_count": 174,
   "id": "4ec1620f",
   "metadata": {
    "id": "4ec1620f",
    "outputId": "f2728840-146b-49f3-fc0d-c014fb407379"
   },
   "outputs": [
    {
     "data": {
      "text/html": [
       "<div>\n",
       "<style scoped>\n",
       "    .dataframe tbody tr th:only-of-type {\n",
       "        vertical-align: middle;\n",
       "    }\n",
       "\n",
       "    .dataframe tbody tr th {\n",
       "        vertical-align: top;\n",
       "    }\n",
       "\n",
       "    .dataframe thead th {\n",
       "        text-align: right;\n",
       "    }\n",
       "</style>\n",
       "<table border=\"1\" class=\"dataframe\">\n",
       "  <thead>\n",
       "    <tr style=\"text-align: right;\">\n",
       "      <th></th>\n",
       "      <th>thresholds</th>\n",
       "      <th>tp</th>\n",
       "      <th>fp</th>\n",
       "      <th>fn</th>\n",
       "      <th>tn</th>\n",
       "      <th>tpr</th>\n",
       "      <th>fpr</th>\n",
       "    </tr>\n",
       "  </thead>\n",
       "  <tbody>\n",
       "    <tr>\n",
       "      <th>0</th>\n",
       "      <td>0.0</td>\n",
       "      <td>729</td>\n",
       "      <td>1119</td>\n",
       "      <td>0</td>\n",
       "      <td>0</td>\n",
       "      <td>1.000000</td>\n",
       "      <td>1.000000</td>\n",
       "    </tr>\n",
       "    <tr>\n",
       "      <th>10</th>\n",
       "      <td>0.1</td>\n",
       "      <td>710</td>\n",
       "      <td>574</td>\n",
       "      <td>19</td>\n",
       "      <td>545</td>\n",
       "      <td>0.973937</td>\n",
       "      <td>0.512958</td>\n",
       "    </tr>\n",
       "    <tr>\n",
       "      <th>20</th>\n",
       "      <td>0.2</td>\n",
       "      <td>680</td>\n",
       "      <td>320</td>\n",
       "      <td>49</td>\n",
       "      <td>799</td>\n",
       "      <td>0.932785</td>\n",
       "      <td>0.285970</td>\n",
       "    </tr>\n",
       "    <tr>\n",
       "      <th>30</th>\n",
       "      <td>0.3</td>\n",
       "      <td>637</td>\n",
       "      <td>243</td>\n",
       "      <td>92</td>\n",
       "      <td>876</td>\n",
       "      <td>0.873800</td>\n",
       "      <td>0.217158</td>\n",
       "    </tr>\n",
       "    <tr>\n",
       "      <th>40</th>\n",
       "      <td>0.4</td>\n",
       "      <td>597</td>\n",
       "      <td>167</td>\n",
       "      <td>132</td>\n",
       "      <td>952</td>\n",
       "      <td>0.818930</td>\n",
       "      <td>0.149240</td>\n",
       "    </tr>\n",
       "    <tr>\n",
       "      <th>50</th>\n",
       "      <td>0.5</td>\n",
       "      <td>541</td>\n",
       "      <td>113</td>\n",
       "      <td>188</td>\n",
       "      <td>1006</td>\n",
       "      <td>0.742112</td>\n",
       "      <td>0.100983</td>\n",
       "    </tr>\n",
       "    <tr>\n",
       "      <th>60</th>\n",
       "      <td>0.6</td>\n",
       "      <td>504</td>\n",
       "      <td>83</td>\n",
       "      <td>225</td>\n",
       "      <td>1036</td>\n",
       "      <td>0.691358</td>\n",
       "      <td>0.074173</td>\n",
       "    </tr>\n",
       "    <tr>\n",
       "      <th>70</th>\n",
       "      <td>0.7</td>\n",
       "      <td>436</td>\n",
       "      <td>50</td>\n",
       "      <td>293</td>\n",
       "      <td>1069</td>\n",
       "      <td>0.598080</td>\n",
       "      <td>0.044683</td>\n",
       "    </tr>\n",
       "    <tr>\n",
       "      <th>80</th>\n",
       "      <td>0.8</td>\n",
       "      <td>345</td>\n",
       "      <td>22</td>\n",
       "      <td>384</td>\n",
       "      <td>1097</td>\n",
       "      <td>0.473251</td>\n",
       "      <td>0.019660</td>\n",
       "    </tr>\n",
       "    <tr>\n",
       "      <th>90</th>\n",
       "      <td>0.9</td>\n",
       "      <td>220</td>\n",
       "      <td>4</td>\n",
       "      <td>509</td>\n",
       "      <td>1115</td>\n",
       "      <td>0.301783</td>\n",
       "      <td>0.003575</td>\n",
       "    </tr>\n",
       "    <tr>\n",
       "      <th>100</th>\n",
       "      <td>1.0</td>\n",
       "      <td>0</td>\n",
       "      <td>0</td>\n",
       "      <td>729</td>\n",
       "      <td>1119</td>\n",
       "      <td>0.000000</td>\n",
       "      <td>0.000000</td>\n",
       "    </tr>\n",
       "  </tbody>\n",
       "</table>\n",
       "</div>"
      ],
      "text/plain": [
       "     thresholds   tp    fp   fn    tn       tpr       fpr\n",
       "0           0.0  729  1119    0     0  1.000000  1.000000\n",
       "10          0.1  710   574   19   545  0.973937  0.512958\n",
       "20          0.2  680   320   49   799  0.932785  0.285970\n",
       "30          0.3  637   243   92   876  0.873800  0.217158\n",
       "40          0.4  597   167  132   952  0.818930  0.149240\n",
       "50          0.5  541   113  188  1006  0.742112  0.100983\n",
       "60          0.6  504    83  225  1036  0.691358  0.074173\n",
       "70          0.7  436    50  293  1069  0.598080  0.044683\n",
       "80          0.8  345    22  384  1097  0.473251  0.019660\n",
       "90          0.9  220     4  509  1115  0.301783  0.003575\n",
       "100         1.0    0     0  729  1119  0.000000  0.000000"
      ]
     },
     "execution_count": 174,
     "metadata": {},
     "output_type": "execute_result"
    }
   ],
   "source": [
    "df_scores_t = tpr_fpr_dataframe(test_y, preds_test.reshape(-1,1))\n",
    "df_scores_t[::10]"
   ]
  },
  {
   "cell_type": "code",
   "execution_count": 175,
   "id": "c0d580ef",
   "metadata": {
    "id": "c0d580ef"
   },
   "outputs": [],
   "source": [
    "fpr_t, tpr_t, thresholds_t = roc_curve(test_y, preds_test.reshape(-1,1))"
   ]
  },
  {
   "cell_type": "code",
   "execution_count": 176,
   "id": "2a34f0f8",
   "metadata": {
    "id": "2a34f0f8",
    "outputId": "b8343bdc-bedc-4afe-9049-3ea64764beff"
   },
   "outputs": [
    {
     "name": "stdout",
     "output_type": "stream",
     "text": [
      "auc = 0.8796244197065036\n"
     ]
    }
   ],
   "source": [
    "y_train = train_full['converted'].values.reshape(-1,1)\n",
    "\n",
    "dv, model = train(train_full, y_train, C=0.001)\n",
    "y_pred = predict(test_X, dv, model)\n",
    "\n",
    "auc = roc_auc_score(test_y, y_pred.reshape(-1,1))\n",
    "\n",
    "print(f'auc = {auc}')"
   ]
  },
  {
   "cell_type": "code",
   "execution_count": 177,
   "id": "59fda9de",
   "metadata": {
    "id": "59fda9de"
   },
   "outputs": [],
   "source": [
    "import pickle\n",
    "\n",
    "with open('converting-model.bin', 'wb') as f_out:\n",
    "    pickle.dump((dv, model),f_out)"
   ]
  },
  {
   "cell_type": "code",
   "execution_count": null,
   "id": "bdcb2a05",
   "metadata": {
    "id": "bdcb2a05"
   },
   "outputs": [],
   "source": []
  }
 ],
 "metadata": {
  "colab": {
   "name": "lead prediction.ipynb",
   "provenance": []
  },
  "kernelspec": {
   "display_name": "Python 3",
   "language": "python",
   "name": "python3"
  },
  "language_info": {
   "codemirror_mode": {
    "name": "ipython",
    "version": 3
   },
   "file_extension": ".py",
   "mimetype": "text/x-python",
   "name": "python",
   "nbconvert_exporter": "python",
   "pygments_lexer": "ipython3",
   "version": "3.8.8"
  }
 },
 "nbformat": 4,
 "nbformat_minor": 5
}
